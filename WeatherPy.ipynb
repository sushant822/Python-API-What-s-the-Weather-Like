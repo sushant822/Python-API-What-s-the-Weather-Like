{
 "cells": [
  {
   "cell_type": "markdown",
   "metadata": {},
   "source": [
    "# WeatherPy\n",
    "----\n",
    "\n",
    "#### Note\n",
    "* Instructions have been included for each segment. You do not have to follow them exactly, but they are included to help you think through the steps."
   ]
  },
  {
   "cell_type": "code",
   "execution_count": 1,
   "metadata": {
    "scrolled": true
   },
   "outputs": [],
   "source": [
    "# Dependencies and Setup\n",
    "import matplotlib.pyplot as plt\n",
    "import pandas as pd\n",
    "import numpy as np\n",
    "import requests\n",
    "import time\n",
    "from scipy.stats import linregress\n",
    "from datetime import datetime\n",
    "\n",
    "# Import API key\n",
    "from api_keys import weather_api_key\n",
    "\n",
    "# Incorporated citipy to determine city based on latitude and longitude\n",
    "from citipy import citipy\n",
    "\n",
    "# Output File (CSV)\n",
    "output_data_file = \"output_data/cities.csv\"\n",
    "\n",
    "# Range of latitudes and longitudes\n",
    "lat_range = (-90, 90)\n",
    "lng_range = (-180, 180)"
   ]
  },
  {
   "cell_type": "markdown",
   "metadata": {},
   "source": [
    "## Generate Cities List"
   ]
  },
  {
   "cell_type": "code",
   "execution_count": 2,
   "metadata": {},
   "outputs": [
    {
     "data": {
      "text/plain": [
       "608"
      ]
     },
     "execution_count": 2,
     "metadata": {},
     "output_type": "execute_result"
    }
   ],
   "source": [
    "# List for holding lat_lngs and cities\n",
    "lat_lngs = []\n",
    "cities = []\n",
    "\n",
    "# Create a set of random lat and lng combinations\n",
    "lats = np.random.uniform(lat_range[0], lat_range[1], size=1500)\n",
    "lngs = np.random.uniform(lng_range[0], lng_range[1], size=1500)\n",
    "lat_lngs = zip(lats, lngs)\n",
    "\n",
    "# Identify nearest city for each lat, lng combination\n",
    "for lat_lng in lat_lngs:\n",
    "    city = citipy.nearest_city(lat_lng[0], lat_lng[1]).city_name\n",
    "    \n",
    "    # If the city is unique, then add it to a our cities list\n",
    "    if city not in cities:\n",
    "        cities.append(city)\n",
    "\n",
    "# Print the city count to confirm sufficient count\n",
    "len(cities)"
   ]
  },
  {
   "cell_type": "markdown",
   "metadata": {},
   "source": [
    "### Perform API Calls\n",
    "* Perform a weather check on each city using a series of successive API calls.\n",
    "* Include a print log of each city as it'sbeing processed (with the city number and city name).\n"
   ]
  },
  {
   "cell_type": "code",
   "execution_count": 3,
   "metadata": {},
   "outputs": [
    {
     "name": "stdout",
     "output_type": "stream",
     "text": [
      "Beginning Data Retrieval \n",
      "-----------------------------\n",
      "Processing Record 1 of Set 1 | maumere\n",
      "Processing Record 2 of Set 1 | tautira\n",
      "Processing Record 3 of Set 1 | rikitea\n",
      "Processing Record 4 of Set 1 | sur\n",
      "Processing Record 5 of Set 1 | ancud\n",
      "Processing Record 6 of Set 1 | pevek\n",
      "Processing Record 7 of Set 1 | talnakh\n",
      "Processing Record 8 of Set 1 | clyde river\n",
      "City not found. Skipping...\n",
      "Processing Record 9 of Set 1 | okhansk\n",
      "Processing Record 10 of Set 1 | puerto ayora\n",
      "Processing Record 11 of Set 1 | raudeberg\n",
      "Processing Record 12 of Set 1 | le port\n",
      "Processing Record 13 of Set 1 | longyearbyen\n",
      "City not found. Skipping...\n",
      "Processing Record 14 of Set 1 | flinders\n",
      "Processing Record 15 of Set 1 | sitka\n",
      "Processing Record 16 of Set 1 | nata\n",
      "Processing Record 17 of Set 1 | akyab\n",
      "Processing Record 18 of Set 1 | ushuaia\n",
      "Processing Record 19 of Set 1 | ranong\n",
      "Processing Record 20 of Set 1 | arraial do cabo\n",
      "Processing Record 21 of Set 1 | yining\n",
      "City not found. Skipping...\n",
      "Processing Record 22 of Set 1 | saskylakh\n",
      "City not found. Skipping...\n",
      "Processing Record 23 of Set 1 | gambela\n",
      "Processing Record 24 of Set 1 | geraldton\n",
      "Processing Record 25 of Set 1 | hobart\n",
      "Processing Record 26 of Set 1 | busselton\n",
      "Processing Record 27 of Set 1 | lac du bonnet\n",
      "Processing Record 28 of Set 1 | butaritari\n",
      "Processing Record 29 of Set 1 | jamestown\n",
      "Processing Record 30 of Set 1 | henties bay\n",
      "Processing Record 31 of Set 1 | tabou\n",
      "Processing Record 32 of Set 1 | bud\n",
      "Processing Record 33 of Set 1 | tura\n",
      "Processing Record 34 of Set 1 | tubuala\n",
      "Processing Record 35 of Set 1 | hofn\n",
      "Processing Record 36 of Set 1 | bilibino\n",
      "Processing Record 37 of Set 1 | bethel\n",
      "Processing Record 38 of Set 1 | kapaa\n",
      "Processing Record 39 of Set 1 | cherskiy\n",
      "Processing Record 40 of Set 1 | atuona\n",
      "Processing Record 41 of Set 1 | esperance\n",
      "Processing Record 42 of Set 1 | bluff\n",
      "Processing Record 43 of Set 1 | cururupu\n",
      "Processing Record 44 of Set 1 | bathsheba\n",
      "Processing Record 45 of Set 1 | itarema\n",
      "Processing Record 46 of Set 1 | dikson\n",
      "Processing Record 47 of Set 1 | coleraine\n",
      "Processing Record 48 of Set 1 | yulara\n",
      "Processing Record 49 of Set 1 | iqaluit\n",
      "Processing Record 0 of Set 2 | ambilobe\n",
      "Processing Record 1 of Set 2 | bima\n",
      "Processing Record 2 of Set 2 | port elizabeth\n",
      "Processing Record 3 of Set 2 | fort saint james\n",
      "City not found. Skipping...\n",
      "Processing Record 4 of Set 2 | kamaishi\n",
      "Processing Record 5 of Set 2 | kruisfontein\n",
      "Processing Record 6 of Set 2 | gayny\n",
      "Processing Record 7 of Set 2 | salalah\n",
      "Processing Record 8 of Set 2 | diffa\n",
      "Processing Record 9 of Set 2 | batesville\n",
      "City not found. Skipping...\n",
      "City not found. Skipping...\n",
      "City not found. Skipping...\n",
      "Processing Record 10 of Set 2 | new norfolk\n",
      "Processing Record 11 of Set 2 | mataura\n",
      "Processing Record 12 of Set 2 | tuktoyaktuk\n",
      "Processing Record 13 of Set 2 | hilo\n",
      "Processing Record 14 of Set 2 | cape town\n",
      "Processing Record 15 of Set 2 | qaanaaq\n",
      "Processing Record 16 of Set 2 | voh\n",
      "Processing Record 17 of Set 2 | mahebourg\n",
      "Processing Record 18 of Set 2 | vaini\n",
      "Processing Record 19 of Set 2 | salym\n",
      "Processing Record 20 of Set 2 | coquimbo\n",
      "Processing Record 21 of Set 2 | collie\n",
      "Processing Record 22 of Set 2 | teahupoo\n",
      "Processing Record 23 of Set 2 | leningradskiy\n",
      "Processing Record 24 of Set 2 | dingle\n",
      "City not found. Skipping...\n",
      "Processing Record 25 of Set 2 | kavieng\n",
      "Processing Record 26 of Set 2 | sharlyk\n",
      "Processing Record 27 of Set 2 | panjab\n",
      "Processing Record 28 of Set 2 | emba\n",
      "Processing Record 29 of Set 2 | bambous virieux\n",
      "Processing Record 30 of Set 2 | abu samrah\n",
      "Processing Record 31 of Set 2 | sulangan\n",
      "Processing Record 32 of Set 2 | kindu\n",
      "Processing Record 33 of Set 2 | carnarvon\n",
      "Processing Record 34 of Set 2 | labuhan\n",
      "City not found. Skipping...\n",
      "Processing Record 35 of Set 2 | albany\n",
      "Processing Record 36 of Set 2 | cockburn town\n",
      "Processing Record 37 of Set 2 | namibe\n",
      "City not found. Skipping...\n",
      "Processing Record 38 of Set 2 | east london\n",
      "Processing Record 39 of Set 2 | ilulissat\n",
      "Processing Record 40 of Set 2 | korla\n",
      "City not found. Skipping...\n",
      "Processing Record 41 of Set 2 | kununurra\n",
      "Processing Record 42 of Set 2 | inhambane\n",
      "Processing Record 43 of Set 2 | bonavista\n",
      "Processing Record 44 of Set 2 | port hardy\n",
      "City not found. Skipping...\n",
      "Processing Record 45 of Set 2 | hasaki\n",
      "Processing Record 46 of Set 2 | ahipara\n",
      "Processing Record 47 of Set 2 | yellowknife\n",
      "Processing Record 48 of Set 2 | torbay\n",
      "Processing Record 49 of Set 2 | chuy\n",
      "Processing Record 0 of Set 3 | xai-xai\n",
      "Processing Record 1 of Set 3 | souillac\n",
      "Processing Record 2 of Set 3 | tiksi\n",
      "Processing Record 3 of Set 3 | calvinia\n",
      "Processing Record 4 of Set 3 | pogar\n",
      "City not found. Skipping...\n",
      "Processing Record 5 of Set 3 | nelson bay\n",
      "Processing Record 6 of Set 3 | fort morgan\n",
      "Processing Record 7 of Set 3 | senno\n",
      "Processing Record 8 of Set 3 | deputatskiy\n",
      "Processing Record 9 of Set 3 | lodja\n",
      "Processing Record 10 of Set 3 | mar del plata\n",
      "Processing Record 11 of Set 3 | padang\n",
      "Processing Record 12 of Set 3 | saint george\n",
      "Processing Record 13 of Set 3 | powell river\n",
      "Processing Record 14 of Set 3 | provideniya\n",
      "Processing Record 15 of Set 3 | belyy yar\n",
      "Processing Record 16 of Set 3 | port lincoln\n",
      "Processing Record 17 of Set 3 | biu\n",
      "Processing Record 18 of Set 3 | mangrol\n",
      "Processing Record 19 of Set 3 | almaznyy\n",
      "Processing Record 20 of Set 3 | vila franca do campo\n",
      "Processing Record 21 of Set 3 | tikri\n",
      "City not found. Skipping...\n",
      "Processing Record 22 of Set 3 | boksitogorsk\n",
      "Processing Record 23 of Set 3 | tiquisate\n",
      "Processing Record 24 of Set 3 | sechura\n",
      "Processing Record 25 of Set 3 | lazi\n",
      "Processing Record 26 of Set 3 | puerto madryn\n",
      "Processing Record 27 of Set 3 | aksu\n",
      "Processing Record 28 of Set 3 | isangel\n",
      "Processing Record 29 of Set 3 | portobelo\n",
      "Processing Record 30 of Set 3 | avarua\n",
      "Processing Record 31 of Set 3 | lundazi\n",
      "Processing Record 32 of Set 3 | barrow\n",
      "Processing Record 33 of Set 3 | hermanus\n",
      "Processing Record 34 of Set 3 | willowmore\n",
      "Processing Record 35 of Set 3 | mnogovershinnyy\n",
      "Processing Record 36 of Set 3 | port alfred\n",
      "Processing Record 37 of Set 3 | faanui\n",
      "Processing Record 38 of Set 3 | khatanga\n",
      "Processing Record 39 of Set 3 | sorochinsk\n",
      "Processing Record 40 of Set 3 | punta arenas\n",
      "Processing Record 41 of Set 3 | tessalit\n",
      "Processing Record 42 of Set 3 | porto nacional\n",
      "Processing Record 43 of Set 3 | castro\n",
      "Processing Record 44 of Set 3 | utica\n",
      "Processing Record 45 of Set 3 | marsh harbour\n",
      "Processing Record 46 of Set 3 | komsomolskiy\n",
      "Processing Record 47 of Set 3 | roald\n",
      "Processing Record 48 of Set 3 | severo-kurilsk\n",
      "City not found. Skipping...\n",
      "City not found. Skipping...\n",
      "Processing Record 49 of Set 3 | hambantota\n",
      "Processing Record 0 of Set 4 | constitucion\n",
      "Processing Record 1 of Set 4 | bredasdorp\n",
      "Processing Record 2 of Set 4 | shenjiamen\n",
      "Processing Record 3 of Set 4 | katherine\n",
      "Processing Record 4 of Set 4 | srednekolymsk\n",
      "Processing Record 5 of Set 4 | sumenep\n",
      "Processing Record 6 of Set 4 | sabae\n",
      "City not found. Skipping...\n",
      "Processing Record 7 of Set 4 | rawson\n",
      "Processing Record 8 of Set 4 | guerrero negro\n",
      "Processing Record 9 of Set 4 | fortuna\n",
      "Processing Record 10 of Set 4 | nanortalik\n",
      "Processing Record 11 of Set 4 | airai\n",
      "Processing Record 12 of Set 4 | mount isa\n",
      "City not found. Skipping...\n",
      "Processing Record 13 of Set 4 | dunda\n",
      "Processing Record 14 of Set 4 | zonguldak\n",
      "City not found. Skipping...\n",
      "Processing Record 15 of Set 4 | katsuura\n",
      "City not found. Skipping...\n",
      "Processing Record 16 of Set 4 | aklavik\n",
      "Processing Record 17 of Set 4 | jalu\n",
      "Processing Record 18 of Set 4 | pimentel\n",
      "Processing Record 19 of Set 4 | sijunjung\n",
      "Processing Record 20 of Set 4 | pisco\n",
      "Processing Record 21 of Set 4 | kaitangata\n",
      "Processing Record 22 of Set 4 | blythe\n",
      "Processing Record 23 of Set 4 | troitsko-pechorsk\n",
      "Processing Record 24 of Set 4 | bundaberg\n",
      "Processing Record 25 of Set 4 | namatanai\n",
      "Processing Record 26 of Set 4 | kieta\n",
      "City not found. Skipping...\n",
      "Processing Record 27 of Set 4 | ialibu\n",
      "Processing Record 28 of Set 4 | horsham\n",
      "Processing Record 29 of Set 4 | lata\n",
      "City not found. Skipping...\n",
      "Processing Record 30 of Set 4 | bosaso\n",
      "Processing Record 31 of Set 4 | tezu\n",
      "Processing Record 32 of Set 4 | mancio lima\n",
      "Processing Record 33 of Set 4 | san cristobal\n",
      "Processing Record 34 of Set 4 | nome\n",
      "City not found. Skipping...\n"
     ]
    },
    {
     "name": "stdout",
     "output_type": "stream",
     "text": [
      "Processing Record 35 of Set 4 | tshikapa\n",
      "Processing Record 36 of Set 4 | kuching\n",
      "Processing Record 37 of Set 4 | kosh-agach\n",
      "Processing Record 38 of Set 4 | shenzhen\n",
      "Processing Record 39 of Set 4 | atikokan\n",
      "Processing Record 40 of Set 4 | kahului\n",
      "Processing Record 41 of Set 4 | lompoc\n",
      "Processing Record 42 of Set 4 | tuatapere\n",
      "Processing Record 43 of Set 4 | moses lake\n",
      "Processing Record 44 of Set 4 | alofi\n",
      "Processing Record 45 of Set 4 | delcevo\n",
      "Processing Record 46 of Set 4 | port moresby\n",
      "Processing Record 47 of Set 4 | kumluca\n",
      "Processing Record 48 of Set 4 | ribeira grande\n",
      "Processing Record 49 of Set 4 | badiraguato\n",
      "Processing Record 0 of Set 5 | kargil\n",
      "Processing Record 1 of Set 5 | virginia beach\n",
      "Processing Record 2 of Set 5 | verkhnevilyuysk\n",
      "Processing Record 3 of Set 5 | palora\n",
      "Processing Record 4 of Set 5 | sinegorskiy\n",
      "Processing Record 5 of Set 5 | horodnytsya\n",
      "Processing Record 6 of Set 5 | kirakira\n",
      "Processing Record 7 of Set 5 | bereda\n",
      "Processing Record 8 of Set 5 | biltine\n",
      "Processing Record 9 of Set 5 | manakara\n",
      "Processing Record 10 of Set 5 | zabid\n",
      "Processing Record 11 of Set 5 | codrington\n",
      "Processing Record 12 of Set 5 | adeje\n",
      "Processing Record 13 of Set 5 | nikolskoye\n",
      "Processing Record 14 of Set 5 | vichy\n",
      "Processing Record 15 of Set 5 | hofu\n",
      "Processing Record 16 of Set 5 | inongo\n",
      "Processing Record 17 of Set 5 | gobabis\n",
      "Processing Record 18 of Set 5 | kungurtug\n",
      "Processing Record 19 of Set 5 | kodiak\n",
      "Processing Record 20 of Set 5 | pijijiapan\n",
      "Processing Record 21 of Set 5 | hornepayne\n",
      "Processing Record 22 of Set 5 | oktyabrskiy\n",
      "Processing Record 23 of Set 5 | laguna\n",
      "Processing Record 24 of Set 5 | poum\n",
      "Processing Record 25 of Set 5 | sturgis\n",
      "Processing Record 26 of Set 5 | sarangani\n",
      "Processing Record 27 of Set 5 | saint-philippe\n",
      "City not found. Skipping...\n",
      "Processing Record 28 of Set 5 | hirado\n",
      "Processing Record 29 of Set 5 | bolekhiv\n",
      "Processing Record 30 of Set 5 | primo tapia\n",
      "Processing Record 31 of Set 5 | tahta\n",
      "Processing Record 32 of Set 5 | hithadhoo\n",
      "Processing Record 33 of Set 5 | palauig\n",
      "City not found. Skipping...\n",
      "Processing Record 34 of Set 5 | adrar\n",
      "Processing Record 35 of Set 5 | guarapari\n",
      "Processing Record 36 of Set 5 | najran\n",
      "Processing Record 37 of Set 5 | usinsk\n",
      "Processing Record 38 of Set 5 | unity\n",
      "Processing Record 39 of Set 5 | fribourg\n",
      "Processing Record 40 of Set 5 | luganville\n",
      "Processing Record 41 of Set 5 | palm coast\n",
      "Processing Record 42 of Set 5 | sungaipenuh\n",
      "Processing Record 43 of Set 5 | broken hill\n",
      "Processing Record 44 of Set 5 | mackay\n",
      "Processing Record 45 of Set 5 | upernavik\n",
      "Processing Record 46 of Set 5 | paamiut\n",
      "Processing Record 47 of Set 5 | tromso\n",
      "Processing Record 48 of Set 5 | sinnamary\n",
      "Processing Record 49 of Set 5 | sorong\n",
      "Processing Record 0 of Set 6 | kashi\n",
      "Processing Record 1 of Set 6 | lorengau\n",
      "Processing Record 2 of Set 6 | grand-santi\n",
      "Processing Record 3 of Set 6 | manokwari\n",
      "City not found. Skipping...\n",
      "Processing Record 4 of Set 6 | sao joao da barra\n",
      "Processing Record 5 of Set 6 | necochea\n",
      "Processing Record 6 of Set 6 | yerbogachen\n",
      "City not found. Skipping...\n",
      "Processing Record 7 of Set 6 | hajiganj\n",
      "Processing Record 8 of Set 6 | tashtyp\n",
      "Processing Record 9 of Set 6 | karratha\n",
      "Processing Record 10 of Set 6 | san patricio\n",
      "Processing Record 11 of Set 6 | bellavista\n",
      "Processing Record 12 of Set 6 | tasiilaq\n",
      "Processing Record 13 of Set 6 | qinhuangdao\n",
      "Processing Record 14 of Set 6 | yar-sale\n",
      "Processing Record 15 of Set 6 | ukiah\n",
      "Processing Record 16 of Set 6 | rock sound\n",
      "City not found. Skipping...\n",
      "Processing Record 17 of Set 6 | antofagasta\n",
      "Processing Record 18 of Set 6 | krasnoselkup\n",
      "Processing Record 19 of Set 6 | high level\n",
      "Processing Record 20 of Set 6 | ongandjera\n",
      "Processing Record 21 of Set 6 | araouane\n",
      "Processing Record 22 of Set 6 | olafsvik\n",
      "Processing Record 23 of Set 6 | bambanglipuro\n",
      "Processing Record 24 of Set 6 | klaksvik\n",
      "Processing Record 25 of Set 6 | gainesville\n",
      "Processing Record 26 of Set 6 | tual\n",
      "Processing Record 27 of Set 6 | deer lake\n",
      "Processing Record 28 of Set 6 | tatarsk\n",
      "Processing Record 29 of Set 6 | teya\n",
      "Processing Record 30 of Set 6 | svetlyy\n",
      "Processing Record 31 of Set 6 | izhma\n",
      "Processing Record 32 of Set 6 | killam\n",
      "Processing Record 33 of Set 6 | wichita falls\n",
      "Processing Record 34 of Set 6 | stykkisholmur\n",
      "Processing Record 35 of Set 6 | chaumont\n",
      "Processing Record 36 of Set 6 | baruun-urt\n",
      "City not found. Skipping...\n",
      "Processing Record 37 of Set 6 | mandan\n",
      "Processing Record 38 of Set 6 | iralaya\n",
      "Processing Record 39 of Set 6 | batemans bay\n",
      "Processing Record 40 of Set 6 | nabire\n",
      "Processing Record 41 of Set 6 | colesberg\n",
      "Processing Record 42 of Set 6 | norman wells\n",
      "Processing Record 43 of Set 6 | nuuk\n",
      "Processing Record 44 of Set 6 | klaeng\n",
      "Processing Record 45 of Set 6 | gazojak\n",
      "Processing Record 46 of Set 6 | portland\n",
      "Processing Record 47 of Set 6 | cabo san lucas\n",
      "Processing Record 48 of Set 6 | cidreira\n",
      "Processing Record 49 of Set 6 | nakatsu\n",
      "Processing Record 0 of Set 7 | longhua\n",
      "Processing Record 1 of Set 7 | wad madani\n",
      "Processing Record 2 of Set 7 | nyrob\n",
      "Processing Record 3 of Set 7 | moose factory\n",
      "Processing Record 4 of Set 7 | bandar-e lengeh\n",
      "Processing Record 5 of Set 7 | hamilton\n",
      "Processing Record 6 of Set 7 | georgetown\n",
      "Processing Record 7 of Set 7 | athabasca\n",
      "Processing Record 8 of Set 7 | palmer\n",
      "Processing Record 9 of Set 7 | polczyn-zdroj\n",
      "Processing Record 10 of Set 7 | husavik\n",
      "Processing Record 11 of Set 7 | wanning\n",
      "Processing Record 12 of Set 7 | tazovskiy\n",
      "Processing Record 13 of Set 7 | victoria\n",
      "Processing Record 14 of Set 7 | irtyshskiy\n",
      "Processing Record 15 of Set 7 | nouadhibou\n",
      "Processing Record 16 of Set 7 | tahoua\n",
      "Processing Record 17 of Set 7 | nidzica\n",
      "Processing Record 18 of Set 7 | bayir\n",
      "Processing Record 19 of Set 7 | kemin\n",
      "Processing Record 20 of Set 7 | japura\n",
      "Processing Record 21 of Set 7 | waingapu\n",
      "Processing Record 22 of Set 7 | atar\n",
      "Processing Record 23 of Set 7 | touros\n",
      "Processing Record 24 of Set 7 | porvoo\n",
      "Processing Record 25 of Set 7 | otradnoye\n",
      "Processing Record 26 of Set 7 | bengkulu\n",
      "Processing Record 27 of Set 7 | la mira\n",
      "Processing Record 28 of Set 7 | biak\n",
      "Processing Record 29 of Set 7 | shingu\n",
      "Processing Record 30 of Set 7 | milkovo\n",
      "Processing Record 31 of Set 7 | nishihara\n",
      "Processing Record 32 of Set 7 | omsukchan\n",
      "Processing Record 33 of Set 7 | lebu\n",
      "Processing Record 34 of Set 7 | bouar\n",
      "Processing Record 35 of Set 7 | langxiang\n",
      "Processing Record 36 of Set 7 | manta\n",
      "Processing Record 37 of Set 7 | acapulco\n",
      "Processing Record 38 of Set 7 | westport\n",
      "Processing Record 39 of Set 7 | muros\n",
      "Processing Record 40 of Set 7 | tupik\n",
      "Processing Record 41 of Set 7 | ulaangom\n",
      "Processing Record 42 of Set 7 | along\n",
      "Processing Record 43 of Set 7 | awbari\n",
      "Processing Record 44 of Set 7 | madimba\n",
      "Processing Record 45 of Set 7 | taquari\n",
      "City not found. Skipping...\n",
      "Processing Record 46 of Set 7 | muskegon heights\n",
      "Processing Record 47 of Set 7 | matara\n",
      "Processing Record 48 of Set 7 | matveyevka\n",
      "Processing Record 49 of Set 7 | copacele\n",
      "Processing Record 0 of Set 8 | chokurdakh\n",
      "Processing Record 1 of Set 8 | kuito\n",
      "Processing Record 2 of Set 8 | soyo\n",
      "Processing Record 3 of Set 8 | nicoya\n",
      "Processing Record 4 of Set 8 | saldanha\n",
      "City not found. Skipping...\n",
      "Processing Record 5 of Set 8 | chimore\n",
      "Processing Record 6 of Set 8 | thompson\n",
      "Processing Record 7 of Set 8 | tilichiki\n",
      "Processing Record 8 of Set 8 | puerto penasco\n",
      "Processing Record 9 of Set 8 | yazykovo\n",
      "City not found. Skipping...\n",
      "Processing Record 10 of Set 8 | maniitsoq\n",
      "Processing Record 11 of Set 8 | arman\n",
      "Processing Record 12 of Set 8 | clarence town\n",
      "Processing Record 13 of Set 8 | turukhansk\n",
      "Processing Record 14 of Set 8 | pital\n",
      "Processing Record 15 of Set 8 | riyadh\n",
      "Processing Record 16 of Set 8 | fairbanks\n",
      "Processing Record 17 of Set 8 | camocim\n",
      "Processing Record 18 of Set 8 | daugai\n",
      "Processing Record 19 of Set 8 | shubarshi\n",
      "Processing Record 20 of Set 8 | luderitz\n",
      "City not found. Skipping...\n",
      "Processing Record 21 of Set 8 | bafq\n",
      "Processing Record 22 of Set 8 | demak\n",
      "Processing Record 23 of Set 8 | bac lieu\n",
      "Processing Record 24 of Set 8 | aasiaat\n",
      "Processing Record 25 of Set 8 | pirovskoye\n",
      "Processing Record 26 of Set 8 | narsaq\n",
      "Processing Record 27 of Set 8 | pareora\n",
      "Processing Record 28 of Set 8 | wattegama\n",
      "Processing Record 29 of Set 8 | mecca\n"
     ]
    },
    {
     "name": "stdout",
     "output_type": "stream",
     "text": [
      "Processing Record 30 of Set 8 | popondetta\n",
      "Processing Record 31 of Set 8 | langenburg\n",
      "Processing Record 32 of Set 8 | pangody\n",
      "Processing Record 33 of Set 8 | batagay\n",
      "Processing Record 34 of Set 8 | tayshet\n",
      "Processing Record 35 of Set 8 | flin flon\n",
      "Processing Record 36 of Set 8 | seydi\n",
      "Processing Record 37 of Set 8 | bandarbeyla\n",
      "Processing Record 38 of Set 8 | egvekinot\n",
      "Processing Record 39 of Set 8 | gizo\n",
      "Processing Record 40 of Set 8 | pyryatyn\n",
      "Processing Record 41 of Set 8 | shache\n",
      "Processing Record 42 of Set 8 | berlevag\n",
      "Processing Record 43 of Set 8 | walvis bay\n",
      "Processing Record 44 of Set 8 | lianzhou\n",
      "Processing Record 45 of Set 8 | luau\n",
      "Processing Record 46 of Set 8 | lahij\n",
      "Processing Record 47 of Set 8 | saint-pierre\n",
      "Processing Record 48 of Set 8 | petropavlovsk-kamchatskiy\n",
      "Processing Record 49 of Set 8 | ptichye\n",
      "Processing Record 0 of Set 9 | tete\n",
      "Processing Record 1 of Set 9 | sao filipe\n",
      "Processing Record 2 of Set 9 | evensk\n",
      "Processing Record 3 of Set 9 | tumaco\n",
      "City not found. Skipping...\n",
      "Processing Record 4 of Set 9 | kaili\n",
      "Processing Record 5 of Set 9 | pacos de brandao\n",
      "Processing Record 6 of Set 9 | nhulunbuy\n",
      "Processing Record 7 of Set 9 | pochutla\n",
      "Processing Record 8 of Set 9 | kutum\n",
      "Processing Record 9 of Set 9 | alta floresta\n",
      "Processing Record 10 of Set 9 | boende\n",
      "Processing Record 11 of Set 9 | sept-iles\n",
      "Processing Record 12 of Set 9 | gamba\n",
      "Processing Record 13 of Set 9 | yelniki\n",
      "Processing Record 14 of Set 9 | zima\n",
      "Processing Record 15 of Set 9 | rio esteban\n",
      "Processing Record 16 of Set 9 | agirish\n",
      "Processing Record 17 of Set 9 | trinidad\n",
      "Processing Record 18 of Set 9 | la palma\n",
      "Processing Record 19 of Set 9 | talisayan\n",
      "Processing Record 20 of Set 9 | taoudenni\n",
      "Processing Record 21 of Set 9 | majene\n",
      "Processing Record 22 of Set 9 | churapcha\n",
      "Processing Record 23 of Set 9 | wanaka\n",
      "Processing Record 24 of Set 9 | elko\n",
      "Processing Record 25 of Set 9 | lavrentiya\n",
      "Processing Record 26 of Set 9 | monforte de lemos\n",
      "Processing Record 27 of Set 9 | parlier\n",
      "Processing Record 28 of Set 9 | port macquarie\n",
      "Processing Record 29 of Set 9 | kingston\n",
      "Processing Record 30 of Set 9 | ponta do sol\n",
      "Processing Record 31 of Set 9 | ucluelet\n",
      "Processing Record 32 of Set 9 | viedma\n",
      "Processing Record 33 of Set 9 | college\n",
      "Processing Record 34 of Set 9 | pangnirtung\n",
      "Processing Record 35 of Set 9 | pringsewu\n",
      "Processing Record 36 of Set 9 | woodward\n",
      "Processing Record 37 of Set 9 | san pedro\n",
      "Processing Record 38 of Set 9 | vila velha\n",
      "Processing Record 39 of Set 9 | elizabeth city\n",
      "Processing Record 40 of Set 9 | seoul\n",
      "Processing Record 41 of Set 9 | kitgum\n",
      "Processing Record 42 of Set 9 | vao\n",
      "Processing Record 43 of Set 9 | laizhou\n",
      "Processing Record 44 of Set 9 | mulege\n",
      "Processing Record 45 of Set 9 | holme\n",
      "Processing Record 46 of Set 9 | honningsvag\n",
      "Processing Record 47 of Set 9 | kirksville\n",
      "Processing Record 48 of Set 9 | abha\n",
      "Processing Record 49 of Set 9 | suruc\n",
      "Processing Record 0 of Set 10 | havoysund\n",
      "Processing Record 1 of Set 10 | shimoda\n",
      "Processing Record 2 of Set 10 | harper\n",
      "Processing Record 3 of Set 10 | cruz alta\n",
      "Processing Record 4 of Set 10 | lawang\n",
      "Processing Record 5 of Set 10 | meulaboh\n",
      "Processing Record 6 of Set 10 | mackenzie\n",
      "Processing Record 7 of Set 10 | bafia\n",
      "Processing Record 8 of Set 10 | am timan\n",
      "Processing Record 9 of Set 10 | sao felix do xingu\n",
      "Processing Record 10 of Set 10 | novobirilyussy\n",
      "Processing Record 11 of Set 10 | roma\n",
      "City not found. Skipping...\n",
      "Processing Record 12 of Set 10 | urumqi\n",
      "Processing Record 13 of Set 10 | umm lajj\n",
      "Processing Record 14 of Set 10 | itupiranga\n",
      "Processing Record 15 of Set 10 | luena\n",
      "Processing Record 16 of Set 10 | taft\n",
      "Processing Record 17 of Set 10 | abnub\n",
      "Processing Record 18 of Set 10 | howard springs\n",
      "Processing Record 19 of Set 10 | palembang\n",
      "Processing Record 20 of Set 10 | portmarnock\n",
      "Processing Record 21 of Set 10 | bonnyville\n",
      "Processing Record 22 of Set 10 | montes altos\n",
      "City not found. Skipping...\n",
      "Processing Record 23 of Set 10 | pandharpur\n",
      "Processing Record 24 of Set 10 | fare\n",
      "Processing Record 25 of Set 10 | carupano\n",
      "Processing Record 26 of Set 10 | maracacume\n",
      "Processing Record 27 of Set 10 | ayagoz\n",
      "Processing Record 28 of Set 10 | luba\n",
      "Processing Record 29 of Set 10 | naze\n",
      "Processing Record 30 of Set 10 | nalut\n",
      "Processing Record 31 of Set 10 | mezhova\n",
      "Processing Record 32 of Set 10 | plettenberg bay\n",
      "Processing Record 33 of Set 10 | coihaique\n",
      "Processing Record 34 of Set 10 | wenling\n",
      "Processing Record 35 of Set 10 | daphne\n",
      "Processing Record 36 of Set 10 | peniche\n",
      "Processing Record 37 of Set 10 | beloha\n",
      "Processing Record 38 of Set 10 | buala\n",
      "Processing Record 39 of Set 10 | palmares do sul\n",
      "Processing Record 40 of Set 10 | aden\n",
      "Processing Record 41 of Set 10 | taltal\n",
      "Processing Record 42 of Set 10 | urucara\n",
      "Processing Record 43 of Set 10 | sioux lookout\n",
      "Processing Record 44 of Set 10 | susner\n",
      "Processing Record 45 of Set 10 | sibu\n",
      "Processing Record 46 of Set 10 | havelock\n",
      "Processing Record 47 of Set 10 | geilo\n",
      "Processing Record 48 of Set 10 | bikin\n",
      "Processing Record 49 of Set 10 | perigueux\n",
      "Processing Record 0 of Set 11 | inuvik\n",
      "Processing Record 1 of Set 11 | eyl\n",
      "City not found. Skipping...\n",
      "Processing Record 2 of Set 11 | awjilah\n",
      "Processing Record 3 of Set 11 | sola\n",
      "Processing Record 4 of Set 11 | nova mayachka\n",
      "Processing Record 5 of Set 11 | haines junction\n",
      "Processing Record 6 of Set 11 | ginir\n",
      "Processing Record 7 of Set 11 | pozarevac\n",
      "Processing Record 8 of Set 11 | kita\n",
      "Processing Record 9 of Set 11 | okhotsk\n",
      "Processing Record 10 of Set 11 | port-gentil\n",
      "Processing Record 11 of Set 11 | jiayuguan\n",
      "Processing Record 12 of Set 11 | gori\n",
      "City not found. Skipping...\n",
      "Processing Record 13 of Set 11 | nizhniy baskunchak\n",
      "Processing Record 14 of Set 11 | taksimo\n",
      "Processing Record 15 of Set 11 | khartoum\n",
      "Processing Record 16 of Set 11 | kaohsiung\n",
      "Processing Record 17 of Set 11 | ambon\n",
      "Processing Record 18 of Set 11 | valavanur\n",
      "Processing Record 19 of Set 11 | boden\n",
      "Processing Record 20 of Set 11 | erzin\n",
      "Processing Record 21 of Set 11 | hovd\n",
      "City not found. Skipping...\n",
      "Processing Record 22 of Set 11 | opportunity\n",
      "Processing Record 23 of Set 11 | beringovskiy\n",
      "Processing Record 24 of Set 11 | yeysk\n",
      "City not found. Skipping...\n",
      "City not found. Skipping...\n",
      "Processing Record 25 of Set 11 | acarau\n",
      "Processing Record 26 of Set 11 | saint-augustin\n",
      "Processing Record 27 of Set 11 | saint anthony\n",
      "Processing Record 28 of Set 11 | ruston\n",
      "Processing Record 29 of Set 11 | dawei\n",
      "Processing Record 30 of Set 11 | bilma\n",
      "Processing Record 31 of Set 11 | sovetskiy\n",
      "Processing Record 32 of Set 11 | dhangadhi\n",
      "Processing Record 33 of Set 11 | aviles\n",
      "Processing Record 34 of Set 11 | bairiki\n",
      "Processing Record 35 of Set 11 | blackwater\n",
      "Processing Record 36 of Set 11 | makinsk\n",
      "Processing Record 37 of Set 11 | rabo de peixe\n",
      "Processing Record 38 of Set 11 | srednebelaya\n",
      "Processing Record 39 of Set 11 | kurdzhinovo\n",
      "Processing Record 40 of Set 11 | gijon\n",
      "Processing Record 41 of Set 11 | tres arroyos\n",
      "Processing Record 42 of Set 11 | alvorada\n",
      "Processing Record 43 of Set 11 | rafai\n",
      "Processing Record 44 of Set 11 | jinxiang\n",
      "Processing Record 45 of Set 11 | asau\n",
      "Processing Record 46 of Set 11 | pitsunda\n",
      "Processing Record 47 of Set 11 | araguaina\n",
      "Processing Record 48 of Set 11 | chapais\n",
      "Processing Record 49 of Set 11 | neryungri\n",
      "Processing Record 0 of Set 12 | maragogi\n",
      "Processing Record 1 of Set 12 | saint-georges\n",
      "Processing Record 2 of Set 12 | byron bay\n",
      "Processing Record 3 of Set 12 | alyangula\n",
      "Processing Record 4 of Set 12 | praia da vitoria\n",
      "Processing Record 5 of Set 12 | san carlos de bariloche\n",
      "City not found. Skipping...\n",
      "Processing Record 6 of Set 12 | belle fourche\n",
      "Processing Record 7 of Set 12 | sylvan lake\n",
      "Processing Record 8 of Set 12 | ventimiglia\n",
      "Processing Record 9 of Set 12 | aromashevo\n",
      "Processing Record 10 of Set 12 | lgov\n",
      "Processing Record 11 of Set 12 | olga\n",
      "Processing Record 12 of Set 12 | nemuro\n",
      "Processing Record 13 of Set 12 | porto novo\n",
      "City not found. Skipping...\n",
      "Processing Record 14 of Set 12 | hernani\n",
      "-----------------------------\n",
      "Data Retrieval Complete\n",
      "-----------------------------\n"
     ]
    }
   ],
   "source": [
    "# In order to perform a weather check on each city,\n",
    "# we need to run a for loop which will irritate through the list and store the values in a lists\n",
    "# Let us create empty lists first that will be used to store the data\n",
    "# As shown in the output above, our Processing Records should be split in different sets\n",
    "# Each set containing maximum of 49 entries.\n",
    "\n",
    "city_name_ar = []\n",
    "cloudiness_ar = []\n",
    "country_ar = []\n",
    "date_ar = []\n",
    "humidity_ar = []\n",
    "lat_ar = []\n",
    "lng_ar = []\n",
    "max_temp_ar = []\n",
    "wind_speed_ar = []\n",
    "index_counter = 0\n",
    "set_counter = 1\n",
    "\n",
    "\n",
    "print(\"Beginning Data Retrieval \")\n",
    "print(\"-----------------------------\")\n",
    "\n",
    "base_url = \"http://api.openweathermap.org/data/2.5/weather?\"\n",
    "units = \"imperial\"\n",
    "query_url = f\"{base_url}appid={weather_api_key}&units={units}&q=\"\n",
    "\n",
    "\n",
    "for city in cities:\n",
    "    try:\n",
    "        response = requests.get(query_url + city).json()\n",
    "        city_name_ar.append(response[\"name\"])\n",
    "        cloudiness_ar.append(response[\"clouds\"][\"all\"])\n",
    "        country_ar.append(response[\"sys\"][\"country\"])\n",
    "        date_ar.append((datetime.fromtimestamp(response['dt'])).strftime('%m/%d/%y'))\n",
    "        humidity_ar.append(response[\"main\"][\"humidity\"])\n",
    "        lat_ar.append(response[\"coord\"][\"lat\"])\n",
    "        lng_ar.append(response[\"coord\"][\"lon\"])\n",
    "        max_temp_ar.append(response['main']['temp_max'])\n",
    "        wind_speed_ar.append(response[\"wind\"][\"speed\"])\n",
    "        if index_counter > 48:\n",
    "            index_counter = 0\n",
    "            set_counter +=1\n",
    "    \n",
    "        else:\n",
    "            index_counter +=1\n",
    "            \n",
    "        print(f\"Processing Record {index_counter} of Set {set_counter} | {city}\") \n",
    "  \n",
    "    except(KeyError, IndexError):\n",
    "        print(\"City not found. Skipping...\")\n",
    "\n",
    "print(\"-----------------------------\")\n",
    "print(\"Data Retrieval Complete\")\n",
    "print(\"-----------------------------\")"
   ]
  },
  {
   "cell_type": "markdown",
   "metadata": {},
   "source": [
    "### Convert Raw Data to DataFrame\n",
    "* Export the city data into a .csv.\n",
    "* Display the DataFrame"
   ]
  },
  {
   "cell_type": "code",
   "execution_count": 4,
   "metadata": {},
   "outputs": [
    {
     "data": {
      "text/plain": [
       "City          564\n",
       "Lat           564\n",
       "Lng           564\n",
       "Max Temp      564\n",
       "Humidity      564\n",
       "Cloudiness    564\n",
       "Wind Speed    564\n",
       "Country       564\n",
       "Date          564\n",
       "dtype: int64"
      ]
     },
     "execution_count": 4,
     "metadata": {},
     "output_type": "execute_result"
    }
   ],
   "source": [
    "# Now we can create a dataframe with the information we populated above\n",
    "\n",
    "city_data = pd.DataFrame({ \n",
    "                \"City\" : city_name_ar,\n",
    "                \"Lat\" : lat_ar,\n",
    "                \"Lng\" : lng_ar,\n",
    "                \"Max Temp\" : max_temp_ar,\n",
    "                \"Humidity\" : humidity_ar,\n",
    "                \"Cloudiness\" : cloudiness_ar,\n",
    "                \"Wind Speed\" : wind_speed_ar,\n",
    "                \"Country\" : country_ar,\n",
    "                \"Date\" : date_ar            \n",
    "})\n",
    "\n",
    "# Let's do a count on the newely created dataframe\n",
    "\n",
    "city_data.count()"
   ]
  },
  {
   "cell_type": "code",
   "execution_count": 5,
   "metadata": {},
   "outputs": [
    {
     "data": {
      "text/html": [
       "<div>\n",
       "<style scoped>\n",
       "    .dataframe tbody tr th:only-of-type {\n",
       "        vertical-align: middle;\n",
       "    }\n",
       "\n",
       "    .dataframe tbody tr th {\n",
       "        vertical-align: top;\n",
       "    }\n",
       "\n",
       "    .dataframe thead th {\n",
       "        text-align: right;\n",
       "    }\n",
       "</style>\n",
       "<table border=\"1\" class=\"dataframe\">\n",
       "  <thead>\n",
       "    <tr style=\"text-align: right;\">\n",
       "      <th></th>\n",
       "      <th>City</th>\n",
       "      <th>Lat</th>\n",
       "      <th>Lng</th>\n",
       "      <th>Max Temp</th>\n",
       "      <th>Humidity</th>\n",
       "      <th>Cloudiness</th>\n",
       "      <th>Wind Speed</th>\n",
       "      <th>Country</th>\n",
       "      <th>Date</th>\n",
       "    </tr>\n",
       "  </thead>\n",
       "  <tbody>\n",
       "    <tr>\n",
       "      <th>0</th>\n",
       "      <td>Maumere</td>\n",
       "      <td>-8.62</td>\n",
       "      <td>122.21</td>\n",
       "      <td>79.86</td>\n",
       "      <td>71</td>\n",
       "      <td>83</td>\n",
       "      <td>3.80</td>\n",
       "      <td>ID</td>\n",
       "      <td>06/21/20</td>\n",
       "    </tr>\n",
       "    <tr>\n",
       "      <th>1</th>\n",
       "      <td>Tautira</td>\n",
       "      <td>-17.73</td>\n",
       "      <td>-149.15</td>\n",
       "      <td>84.20</td>\n",
       "      <td>62</td>\n",
       "      <td>75</td>\n",
       "      <td>5.82</td>\n",
       "      <td>PF</td>\n",
       "      <td>06/21/20</td>\n",
       "    </tr>\n",
       "    <tr>\n",
       "      <th>2</th>\n",
       "      <td>Rikitea</td>\n",
       "      <td>-23.12</td>\n",
       "      <td>-134.97</td>\n",
       "      <td>70.79</td>\n",
       "      <td>68</td>\n",
       "      <td>86</td>\n",
       "      <td>18.01</td>\n",
       "      <td>PF</td>\n",
       "      <td>06/21/20</td>\n",
       "    </tr>\n",
       "    <tr>\n",
       "      <th>3</th>\n",
       "      <td>Sur</td>\n",
       "      <td>22.57</td>\n",
       "      <td>59.53</td>\n",
       "      <td>85.53</td>\n",
       "      <td>68</td>\n",
       "      <td>58</td>\n",
       "      <td>9.26</td>\n",
       "      <td>OM</td>\n",
       "      <td>06/21/20</td>\n",
       "    </tr>\n",
       "    <tr>\n",
       "      <th>4</th>\n",
       "      <td>Ancud</td>\n",
       "      <td>-41.87</td>\n",
       "      <td>-73.82</td>\n",
       "      <td>48.00</td>\n",
       "      <td>100</td>\n",
       "      <td>90</td>\n",
       "      <td>16.11</td>\n",
       "      <td>CL</td>\n",
       "      <td>06/21/20</td>\n",
       "    </tr>\n",
       "  </tbody>\n",
       "</table>\n",
       "</div>"
      ],
      "text/plain": [
       "      City    Lat     Lng  Max Temp  Humidity  Cloudiness  Wind Speed Country  \\\n",
       "0  Maumere  -8.62  122.21     79.86        71          83        3.80      ID   \n",
       "1  Tautira -17.73 -149.15     84.20        62          75        5.82      PF   \n",
       "2  Rikitea -23.12 -134.97     70.79        68          86       18.01      PF   \n",
       "3      Sur  22.57   59.53     85.53        68          58        9.26      OM   \n",
       "4    Ancud -41.87  -73.82     48.00       100          90       16.11      CL   \n",
       "\n",
       "       Date  \n",
       "0  06/21/20  \n",
       "1  06/21/20  \n",
       "2  06/21/20  \n",
       "3  06/21/20  \n",
       "4  06/21/20  "
      ]
     },
     "execution_count": 5,
     "metadata": {},
     "output_type": "execute_result"
    }
   ],
   "source": [
    "# Let's take a look at first 5 entries in our city_weather dataframe\n",
    "\n",
    "city_data.head()"
   ]
  },
  {
   "cell_type": "markdown",
   "metadata": {},
   "source": [
    "## Inspect the data and remove the cities where the humidity > 100%.\n",
    "----\n",
    "Skip this step if there are no cities that have humidity > 100%. "
   ]
  },
  {
   "cell_type": "code",
   "execution_count": 6,
   "metadata": {},
   "outputs": [
    {
     "data": {
      "text/plain": [
       "100"
      ]
     },
     "execution_count": 6,
     "metadata": {},
     "output_type": "execute_result"
    }
   ],
   "source": [
    "# Let's check what is the maximum humidity in our dataframe.\n",
    "# If the maximum humidity is more than 100, then we'll remove that row from our dataframe\n",
    "\n",
    "city_data['Humidity'].max()"
   ]
  },
  {
   "cell_type": "code",
   "execution_count": 7,
   "metadata": {},
   "outputs": [
    {
     "data": {
      "text/html": [
       "<div>\n",
       "<style scoped>\n",
       "    .dataframe tbody tr th:only-of-type {\n",
       "        vertical-align: middle;\n",
       "    }\n",
       "\n",
       "    .dataframe tbody tr th {\n",
       "        vertical-align: top;\n",
       "    }\n",
       "\n",
       "    .dataframe thead th {\n",
       "        text-align: right;\n",
       "    }\n",
       "</style>\n",
       "<table border=\"1\" class=\"dataframe\">\n",
       "  <thead>\n",
       "    <tr style=\"text-align: right;\">\n",
       "      <th></th>\n",
       "      <th>City</th>\n",
       "      <th>Lat</th>\n",
       "      <th>Lng</th>\n",
       "      <th>Max Temp</th>\n",
       "      <th>Humidity</th>\n",
       "      <th>Cloudiness</th>\n",
       "      <th>Wind Speed</th>\n",
       "      <th>Country</th>\n",
       "      <th>Date</th>\n",
       "    </tr>\n",
       "  </thead>\n",
       "  <tbody>\n",
       "  </tbody>\n",
       "</table>\n",
       "</div>"
      ],
      "text/plain": [
       "Empty DataFrame\n",
       "Columns: [City, Lat, Lng, Max Temp, Humidity, Cloudiness, Wind Speed, Country, Date]\n",
       "Index: []"
      ]
     },
     "execution_count": 7,
     "metadata": {},
     "output_type": "execute_result"
    }
   ],
   "source": [
    "# Let's be absolutely certain that there are no cities with humudity more than 100\n",
    "# If we get an empty dataframe, then there are no cities with humudity more than 100\n",
    "\n",
    "clean_city_data = city_data[city_data['Humidity']>100]\n",
    "clean_city_data"
   ]
  },
  {
   "cell_type": "code",
   "execution_count": 8,
   "metadata": {},
   "outputs": [
    {
     "data": {
      "text/html": [
       "<div>\n",
       "<style scoped>\n",
       "    .dataframe tbody tr th:only-of-type {\n",
       "        vertical-align: middle;\n",
       "    }\n",
       "\n",
       "    .dataframe tbody tr th {\n",
       "        vertical-align: top;\n",
       "    }\n",
       "\n",
       "    .dataframe thead th {\n",
       "        text-align: right;\n",
       "    }\n",
       "</style>\n",
       "<table border=\"1\" class=\"dataframe\">\n",
       "  <thead>\n",
       "    <tr style=\"text-align: right;\">\n",
       "      <th></th>\n",
       "      <th>Lat</th>\n",
       "      <th>Lng</th>\n",
       "      <th>Max Temp</th>\n",
       "      <th>Humidity</th>\n",
       "      <th>Cloudiness</th>\n",
       "      <th>Wind Speed</th>\n",
       "    </tr>\n",
       "  </thead>\n",
       "  <tbody>\n",
       "    <tr>\n",
       "      <th>count</th>\n",
       "      <td>564.000000</td>\n",
       "      <td>564.000000</td>\n",
       "      <td>564.000000</td>\n",
       "      <td>564.000000</td>\n",
       "      <td>564.000000</td>\n",
       "      <td>564.000000</td>\n",
       "    </tr>\n",
       "    <tr>\n",
       "      <th>mean</th>\n",
       "      <td>21.435319</td>\n",
       "      <td>21.198528</td>\n",
       "      <td>67.858652</td>\n",
       "      <td>70.104610</td>\n",
       "      <td>44.537234</td>\n",
       "      <td>7.631915</td>\n",
       "    </tr>\n",
       "    <tr>\n",
       "      <th>std</th>\n",
       "      <td>32.991081</td>\n",
       "      <td>91.335763</td>\n",
       "      <td>14.154198</td>\n",
       "      <td>20.887622</td>\n",
       "      <td>36.717544</td>\n",
       "      <td>5.070656</td>\n",
       "    </tr>\n",
       "    <tr>\n",
       "      <th>min</th>\n",
       "      <td>-54.800000</td>\n",
       "      <td>-179.170000</td>\n",
       "      <td>35.010000</td>\n",
       "      <td>6.000000</td>\n",
       "      <td>0.000000</td>\n",
       "      <td>0.430000</td>\n",
       "    </tr>\n",
       "    <tr>\n",
       "      <th>25%</th>\n",
       "      <td>-5.905000</td>\n",
       "      <td>-58.935000</td>\n",
       "      <td>57.200000</td>\n",
       "      <td>59.750000</td>\n",
       "      <td>5.000000</td>\n",
       "      <td>3.610000</td>\n",
       "    </tr>\n",
       "    <tr>\n",
       "      <th>50%</th>\n",
       "      <td>26.550000</td>\n",
       "      <td>25.810000</td>\n",
       "      <td>69.645000</td>\n",
       "      <td>75.000000</td>\n",
       "      <td>40.000000</td>\n",
       "      <td>6.645000</td>\n",
       "    </tr>\n",
       "    <tr>\n",
       "      <th>75%</th>\n",
       "      <td>49.382500</td>\n",
       "      <td>101.447500</td>\n",
       "      <td>79.062500</td>\n",
       "      <td>86.000000</td>\n",
       "      <td>75.000000</td>\n",
       "      <td>10.290000</td>\n",
       "    </tr>\n",
       "    <tr>\n",
       "      <th>max</th>\n",
       "      <td>78.220000</td>\n",
       "      <td>179.320000</td>\n",
       "      <td>108.000000</td>\n",
       "      <td>100.000000</td>\n",
       "      <td>100.000000</td>\n",
       "      <td>27.070000</td>\n",
       "    </tr>\n",
       "  </tbody>\n",
       "</table>\n",
       "</div>"
      ],
      "text/plain": [
       "              Lat         Lng    Max Temp    Humidity  Cloudiness  Wind Speed\n",
       "count  564.000000  564.000000  564.000000  564.000000  564.000000  564.000000\n",
       "mean    21.435319   21.198528   67.858652   70.104610   44.537234    7.631915\n",
       "std     32.991081   91.335763   14.154198   20.887622   36.717544    5.070656\n",
       "min    -54.800000 -179.170000   35.010000    6.000000    0.000000    0.430000\n",
       "25%     -5.905000  -58.935000   57.200000   59.750000    5.000000    3.610000\n",
       "50%     26.550000   25.810000   69.645000   75.000000   40.000000    6.645000\n",
       "75%     49.382500  101.447500   79.062500   86.000000   75.000000   10.290000\n",
       "max     78.220000  179.320000  108.000000  100.000000  100.000000   27.070000"
      ]
     },
     "execution_count": 8,
     "metadata": {},
     "output_type": "execute_result"
    }
   ],
   "source": [
    "# Let's get the stats on our dataframe by performing the describe method\n",
    "\n",
    "city_data.describe()"
   ]
  },
  {
   "cell_type": "code",
   "execution_count": 9,
   "metadata": {},
   "outputs": [],
   "source": [
    "# Export the City_Data into a csv\n",
    "\n",
    "city_data.to_csv(output_data_file, index = False)"
   ]
  },
  {
   "cell_type": "markdown",
   "metadata": {},
   "source": [
    "## Plotting the Data\n",
    "* Use proper labeling of the plots using plot titles (including date of analysis) and axes labels.\n",
    "* Save the plotted figures as .pngs."
   ]
  },
  {
   "cell_type": "markdown",
   "metadata": {},
   "source": [
    "## Latitude vs. Temperature Plot"
   ]
  },
  {
   "cell_type": "code",
   "execution_count": 10,
   "metadata": {},
   "outputs": [
    {
     "data": {
      "image/png": "[encoded data removed]",
      "text/plain": [
       "<Figure size 432x288 with 1 Axes>"
      ]
     },
     "metadata": {
      "needs_background": "light"
     },
     "output_type": "display_data"
    }
   ],
   "source": [
    "plt.scatter(city_data[\"Lat\"], city_data[\"Max Temp\"], facecolor = \"steelblue\", edgecolor = \"black\")\n",
    "\n",
    "plt.xlabel(\"Laitude\")\n",
    "plt.ylabel(\"Max Temperature (F)\")\n",
    "plt.title(f\"City Latitude vs. Max Temperature {city_data['Date'][0]}\")\n",
    "plt.grid(linestyle='-', linewidth=1, alpha = 0.5)\n",
    "plt.savefig(\"output_data/City Latitude vs Max Temperature.png\")"
   ]
  },
  {
   "cell_type": "markdown",
   "metadata": {},
   "source": [
    "## Latitude vs. Humidity Plot"
   ]
  },
  {
   "cell_type": "code",
   "execution_count": 11,
   "metadata": {},
   "outputs": [
    {
     "data": {
      "image/png": "[encoded data removed]",
      "text/plain": [
       "<Figure size 432x288 with 1 Axes>"
      ]
     },
     "metadata": {
      "needs_background": "light"
     },
     "output_type": "display_data"
    }
   ],
   "source": [
    "plt.scatter(city_data[\"Lat\"], city_data[\"Humidity\"], facecolor = \"steelblue\", edgecolor = \"black\")\n",
    "\n",
    "plt.xlabel(\"Latitude\")\n",
    "plt.ylabel(\"Humidity (%)\")\n",
    "plt.title(f\"City Latitude vs. Humidity {city_data['Date'][0]}\")\n",
    "plt.grid(linestyle='-', linewidth=1, alpha = 0.5)\n",
    "plt.savefig(\"output_data/City Latitude vs. Humidity.png\")"
   ]
  },
  {
   "cell_type": "markdown",
   "metadata": {},
   "source": [
    "## Latitude vs. Cloudiness Plot"
   ]
  },
  {
   "cell_type": "code",
   "execution_count": 12,
   "metadata": {},
   "outputs": [
    {
     "data": {
      "image/png": "[encoded data removed]",
      "text/plain": [
       "<Figure size 432x288 with 1 Axes>"
      ]
     },
     "metadata": {
      "needs_background": "light"
     },
     "output_type": "display_data"
    }
   ],
   "source": [
    "plt.scatter(city_data[\"Lat\"], city_data[\"Cloudiness\"], facecolor = \"steelblue\", edgecolor = \"black\")\n",
    "\n",
    "plt.xlabel(\"Latitude\")\n",
    "plt.ylabel(\"Cloudiness (%)\")\n",
    "plt.title(f\"City Latitude vs. Cloudiness {city_data['Date'][0]}\")\n",
    "plt.grid(linestyle='-', linewidth=1, alpha = 0.5)\n",
    "plt.savefig(\"output_data/City Latitude vs. Cloudiness.png\")"
   ]
  },
  {
   "cell_type": "markdown",
   "metadata": {},
   "source": [
    "## Latitude vs. Wind Speed Plot"
   ]
  },
  {
   "cell_type": "code",
   "execution_count": 13,
   "metadata": {},
   "outputs": [
    {
     "data": {
      "image/png": "[encoded data removed]",
      "text/plain": [
       "<Figure size 432x288 with 1 Axes>"
      ]
     },
     "metadata": {
      "needs_background": "light"
     },
     "output_type": "display_data"
    }
   ],
   "source": [
    "plt.scatter(city_data[\"Lat\"], city_data[\"Wind Speed\"], facecolor = \"steelblue\", edgecolor = \"black\")\n",
    "\n",
    "plt.xlabel(\"Latitude\")\n",
    "plt.ylabel(\"Wind Speed (mph)\")\n",
    "plt.title(f\"City Latitude vs. Wind Speed {city_data['Date'][0]}\")\n",
    "plt.grid(linestyle='-', linewidth=1, alpha = 0.5)\n",
    "plt.savefig(\"output_data/City Latitude vs. Wind Speed.png\")"
   ]
  },
  {
   "cell_type": "markdown",
   "metadata": {},
   "source": [
    "## Linear Regression"
   ]
  },
  {
   "cell_type": "code",
   "execution_count": 14,
   "metadata": {},
   "outputs": [],
   "source": [
    "# OPTIONAL: Create a function to create Linear Regression plots"
   ]
  },
  {
   "cell_type": "code",
   "execution_count": 14,
   "metadata": {},
   "outputs": [],
   "source": [
    "# Let us create a Linear Regression function which can be called later on\n",
    "\n",
    "def linear_regression(x, b):\n",
    "    slope, intercept, rvalue, pvalue, stderr = linregress(x, b)\n",
    "    print(f\"The r-squared is: {rvalue**2}\")\n",
    "    regress_values = slope * x + intercept\n",
    "    line_eq = \"y = \" + str(round(slope, 2)) + \"x + \" + str(round(intercept, 2))\n",
    "    plt.scatter(x, b)\n",
    "    plt.plot(x, regress_values, \"-r\")\n",
    "    return line_eq"
   ]
  },
  {
   "cell_type": "code",
   "execution_count": 15,
   "metadata": {},
   "outputs": [],
   "source": [
    "# Create Northern and Southern Hemisphere DataFrames"
   ]
  },
  {
   "cell_type": "code",
   "execution_count": 15,
   "metadata": {},
   "outputs": [],
   "source": [
    "northern_hemisphere = city_data.loc[city_data[\"Lat\"] >= 0]\n",
    "southern_hemisphere = city_data.loc[city_data[\"Lat\"] < 0]"
   ]
  },
  {
   "cell_type": "code",
   "execution_count": 16,
   "metadata": {},
   "outputs": [
    {
     "data": {
      "text/html": [
       "<div>\n",
       "<style scoped>\n",
       "    .dataframe tbody tr th:only-of-type {\n",
       "        vertical-align: middle;\n",
       "    }\n",
       "\n",
       "    .dataframe tbody tr th {\n",
       "        vertical-align: top;\n",
       "    }\n",
       "\n",
       "    .dataframe thead th {\n",
       "        text-align: right;\n",
       "    }\n",
       "</style>\n",
       "<table border=\"1\" class=\"dataframe\">\n",
       "  <thead>\n",
       "    <tr style=\"text-align: right;\">\n",
       "      <th></th>\n",
       "      <th>City</th>\n",
       "      <th>Lat</th>\n",
       "      <th>Lng</th>\n",
       "      <th>Max Temp</th>\n",
       "      <th>Humidity</th>\n",
       "      <th>Cloudiness</th>\n",
       "      <th>Wind Speed</th>\n",
       "      <th>Country</th>\n",
       "      <th>Date</th>\n",
       "    </tr>\n",
       "  </thead>\n",
       "  <tbody>\n",
       "    <tr>\n",
       "      <th>3</th>\n",
       "      <td>Sur</td>\n",
       "      <td>22.57</td>\n",
       "      <td>59.53</td>\n",
       "      <td>85.53</td>\n",
       "      <td>68</td>\n",
       "      <td>58</td>\n",
       "      <td>9.26</td>\n",
       "      <td>OM</td>\n",
       "      <td>06/21/20</td>\n",
       "    </tr>\n",
       "    <tr>\n",
       "      <th>5</th>\n",
       "      <td>Pevek</td>\n",
       "      <td>69.70</td>\n",
       "      <td>170.31</td>\n",
       "      <td>45.00</td>\n",
       "      <td>79</td>\n",
       "      <td>17</td>\n",
       "      <td>2.01</td>\n",
       "      <td>RU</td>\n",
       "      <td>06/21/20</td>\n",
       "    </tr>\n",
       "    <tr>\n",
       "      <th>6</th>\n",
       "      <td>Talnakh</td>\n",
       "      <td>69.49</td>\n",
       "      <td>88.40</td>\n",
       "      <td>59.00</td>\n",
       "      <td>47</td>\n",
       "      <td>2</td>\n",
       "      <td>15.66</td>\n",
       "      <td>RU</td>\n",
       "      <td>06/21/20</td>\n",
       "    </tr>\n",
       "    <tr>\n",
       "      <th>7</th>\n",
       "      <td>Clyde River</td>\n",
       "      <td>70.47</td>\n",
       "      <td>-68.59</td>\n",
       "      <td>42.80</td>\n",
       "      <td>87</td>\n",
       "      <td>1</td>\n",
       "      <td>4.70</td>\n",
       "      <td>CA</td>\n",
       "      <td>06/21/20</td>\n",
       "    </tr>\n",
       "    <tr>\n",
       "      <th>8</th>\n",
       "      <td>Okhansk</td>\n",
       "      <td>57.72</td>\n",
       "      <td>55.39</td>\n",
       "      <td>46.40</td>\n",
       "      <td>81</td>\n",
       "      <td>75</td>\n",
       "      <td>6.71</td>\n",
       "      <td>RU</td>\n",
       "      <td>06/21/20</td>\n",
       "    </tr>\n",
       "  </tbody>\n",
       "</table>\n",
       "</div>"
      ],
      "text/plain": [
       "          City    Lat     Lng  Max Temp  Humidity  Cloudiness  Wind Speed  \\\n",
       "3          Sur  22.57   59.53     85.53        68          58        9.26   \n",
       "5        Pevek  69.70  170.31     45.00        79          17        2.01   \n",
       "6      Talnakh  69.49   88.40     59.00        47           2       15.66   \n",
       "7  Clyde River  70.47  -68.59     42.80        87           1        4.70   \n",
       "8      Okhansk  57.72   55.39     46.40        81          75        6.71   \n",
       "\n",
       "  Country      Date  \n",
       "3      OM  06/21/20  \n",
       "5      RU  06/21/20  \n",
       "6      RU  06/21/20  \n",
       "7      CA  06/21/20  \n",
       "8      RU  06/21/20  "
      ]
     },
     "execution_count": 16,
     "metadata": {},
     "output_type": "execute_result"
    }
   ],
   "source": [
    "# Let's have a look at northern_hemisphere dataframe\n",
    "\n",
    "northern_hemisphere.head()"
   ]
  },
  {
   "cell_type": "code",
   "execution_count": 17,
   "metadata": {},
   "outputs": [
    {
     "data": {
      "text/html": [
       "<div>\n",
       "<style scoped>\n",
       "    .dataframe tbody tr th:only-of-type {\n",
       "        vertical-align: middle;\n",
       "    }\n",
       "\n",
       "    .dataframe tbody tr th {\n",
       "        vertical-align: top;\n",
       "    }\n",
       "\n",
       "    .dataframe thead th {\n",
       "        text-align: right;\n",
       "    }\n",
       "</style>\n",
       "<table border=\"1\" class=\"dataframe\">\n",
       "  <thead>\n",
       "    <tr style=\"text-align: right;\">\n",
       "      <th></th>\n",
       "      <th>City</th>\n",
       "      <th>Lat</th>\n",
       "      <th>Lng</th>\n",
       "      <th>Max Temp</th>\n",
       "      <th>Humidity</th>\n",
       "      <th>Cloudiness</th>\n",
       "      <th>Wind Speed</th>\n",
       "      <th>Country</th>\n",
       "      <th>Date</th>\n",
       "    </tr>\n",
       "  </thead>\n",
       "  <tbody>\n",
       "    <tr>\n",
       "      <th>0</th>\n",
       "      <td>Maumere</td>\n",
       "      <td>-8.62</td>\n",
       "      <td>122.21</td>\n",
       "      <td>79.86</td>\n",
       "      <td>71</td>\n",
       "      <td>83</td>\n",
       "      <td>3.80</td>\n",
       "      <td>ID</td>\n",
       "      <td>06/21/20</td>\n",
       "    </tr>\n",
       "    <tr>\n",
       "      <th>1</th>\n",
       "      <td>Tautira</td>\n",
       "      <td>-17.73</td>\n",
       "      <td>-149.15</td>\n",
       "      <td>84.20</td>\n",
       "      <td>62</td>\n",
       "      <td>75</td>\n",
       "      <td>5.82</td>\n",
       "      <td>PF</td>\n",
       "      <td>06/21/20</td>\n",
       "    </tr>\n",
       "    <tr>\n",
       "      <th>2</th>\n",
       "      <td>Rikitea</td>\n",
       "      <td>-23.12</td>\n",
       "      <td>-134.97</td>\n",
       "      <td>70.79</td>\n",
       "      <td>68</td>\n",
       "      <td>86</td>\n",
       "      <td>18.01</td>\n",
       "      <td>PF</td>\n",
       "      <td>06/21/20</td>\n",
       "    </tr>\n",
       "    <tr>\n",
       "      <th>4</th>\n",
       "      <td>Ancud</td>\n",
       "      <td>-41.87</td>\n",
       "      <td>-73.82</td>\n",
       "      <td>48.00</td>\n",
       "      <td>100</td>\n",
       "      <td>90</td>\n",
       "      <td>16.11</td>\n",
       "      <td>CL</td>\n",
       "      <td>06/21/20</td>\n",
       "    </tr>\n",
       "    <tr>\n",
       "      <th>9</th>\n",
       "      <td>Puerto Ayora</td>\n",
       "      <td>-0.74</td>\n",
       "      <td>-90.35</td>\n",
       "      <td>70.00</td>\n",
       "      <td>93</td>\n",
       "      <td>66</td>\n",
       "      <td>1.01</td>\n",
       "      <td>EC</td>\n",
       "      <td>06/21/20</td>\n",
       "    </tr>\n",
       "  </tbody>\n",
       "</table>\n",
       "</div>"
      ],
      "text/plain": [
       "           City    Lat     Lng  Max Temp  Humidity  Cloudiness  Wind Speed  \\\n",
       "0       Maumere  -8.62  122.21     79.86        71          83        3.80   \n",
       "1       Tautira -17.73 -149.15     84.20        62          75        5.82   \n",
       "2       Rikitea -23.12 -134.97     70.79        68          86       18.01   \n",
       "4         Ancud -41.87  -73.82     48.00       100          90       16.11   \n",
       "9  Puerto Ayora  -0.74  -90.35     70.00        93          66        1.01   \n",
       "\n",
       "  Country      Date  \n",
       "0      ID  06/21/20  \n",
       "1      PF  06/21/20  \n",
       "2      PF  06/21/20  \n",
       "4      CL  06/21/20  \n",
       "9      EC  06/21/20  "
      ]
     },
     "execution_count": 17,
     "metadata": {},
     "output_type": "execute_result"
    }
   ],
   "source": [
    "# Let's have a look at southern_hemisphere dataframe\n",
    "\n",
    "southern_hemisphere.head()"
   ]
  },
  {
   "cell_type": "markdown",
   "metadata": {},
   "source": [
    "####  Northern Hemisphere - Max Temp vs. Latitude Linear Regression"
   ]
  },
  {
   "cell_type": "code",
   "execution_count": 18,
   "metadata": {},
   "outputs": [
    {
     "name": "stdout",
     "output_type": "stream",
     "text": [
      "The r-squared is: 0.4935511474667381\n"
     ]
    },
    {
     "data": {
      "image/png": "[encoded data removed]",
      "text/plain": [
       "<Figure size 432x288 with 1 Axes>"
      ]
     },
     "metadata": {
      "needs_background": "light"
     },
     "output_type": "display_data"
    }
   ],
   "source": [
    "eq_1 = linear_regression(northern_hemisphere[\"Lat\"], northern_hemisphere[\"Max Temp\"])\n",
    "plt.xlabel(\"Latitude\")\n",
    "plt.ylabel(\"Max Temp\")\n",
    "plt.annotate(eq_1, (40,100), fontsize=15, color=\"red\")\n",
    "plt.show()"
   ]
  },
  {
   "cell_type": "markdown",
   "metadata": {},
   "source": [
    "####  Southern Hemisphere - Max Temp vs. Latitude Linear Regression"
   ]
  },
  {
   "cell_type": "code",
   "execution_count": 19,
   "metadata": {},
   "outputs": [
    {
     "name": "stdout",
     "output_type": "stream",
     "text": [
      "The r-squared is: 0.6434809276630028\n"
     ]
    },
    {
     "data": {
      "image/png": "[encoded data removed]",
      "text/plain": [
       "<Figure size 432x288 with 1 Axes>"
      ]
     },
     "metadata": {
      "needs_background": "light"
     },
     "output_type": "display_data"
    }
   ],
   "source": [
    "eq_2 = linear_regression(southern_hemisphere[\"Lat\"], southern_hemisphere[\"Max Temp\"])\n",
    "plt.xlabel(\"Latitude\")\n",
    "plt.ylabel(\"Max Temp\")\n",
    "plt.annotate(eq_1, (-55,80), fontsize=15, color=\"red\")\n",
    "plt.show()"
   ]
  },
  {
   "cell_type": "markdown",
   "metadata": {},
   "source": [
    "####  Northern Hemisphere - Humidity (%) vs. Latitude Linear Regression"
   ]
  },
  {
   "cell_type": "code",
   "execution_count": 20,
   "metadata": {},
   "outputs": [
    {
     "name": "stdout",
     "output_type": "stream",
     "text": [
      "The r-squared is: 0.0006956931942830147\n"
     ]
    },
    {
     "data": {
      "image/png": "[encoded data removed]",
      "text/plain": [
       "<Figure size 432x288 with 1 Axes>"
      ]
     },
     "metadata": {
      "needs_background": "light"
     },
     "output_type": "display_data"
    }
   ],
   "source": [
    "eq_3 = linear_regression(northern_hemisphere[\"Lat\"], northern_hemisphere[\"Humidity\"])\n",
    "plt.xlabel(\"Latitude\")\n",
    "plt.ylabel(\"Humidity\")\n",
    "plt.annotate(eq_1, (45,7), fontsize=15, color=\"red\")\n",
    "plt.show()"
   ]
  },
  {
   "cell_type": "markdown",
   "metadata": {},
   "source": [
    "####  Southern Hemisphere - Humidity (%) vs. Latitude Linear Regression"
   ]
  },
  {
   "cell_type": "code",
   "execution_count": 22,
   "metadata": {},
   "outputs": [
    {
     "name": "stdout",
     "output_type": "stream",
     "text": [
      "The r-squared is: 1.0089608442204036e-05\n"
     ]
    },
    {
     "data": {
      "image/png": "[encoded data removed]",
      "text/plain": [
       "<Figure size 432x288 with 1 Axes>"
      ]
     },
     "metadata": {
      "needs_background": "light"
     },
     "output_type": "display_data"
    }
   ],
   "source": [
    "eq_4 = linear_regression(southern_hemisphere[\"Lat\"], southern_hemisphere[\"Humidity\"])\n",
    "plt.xlabel(\"Latitude\")\n",
    "plt.ylabel(\"Humidity\")\n",
    "plt.annotate(eq_1, (-55,30), fontsize=15, color=\"red\")\n",
    "plt.show()"
   ]
  },
  {
   "cell_type": "markdown",
   "metadata": {},
   "source": [
    "####  Northern Hemisphere - Cloudiness (%) vs. Latitude Linear Regression"
   ]
  },
  {
   "cell_type": "code",
   "execution_count": 23,
   "metadata": {},
   "outputs": [
    {
     "name": "stdout",
     "output_type": "stream",
     "text": [
      "The r-squared is: 0.001982493471801936\n"
     ]
    },
    {
     "data": {
      "image/png": "[encoded data removed]",
      "text/plain": [
       "<Figure size 432x288 with 1 Axes>"
      ]
     },
     "metadata": {
      "needs_background": "light"
     },
     "output_type": "display_data"
    }
   ],
   "source": [
    "eq_5 = linear_regression(northern_hemisphere[\"Lat\"], northern_hemisphere[\"Cloudiness\"])\n",
    "plt.xlabel(\"Latitude\")\n",
    "plt.ylabel(\"Cloudiness\")\n",
    "plt.annotate(eq_1, (45,10), fontsize=15, color=\"red\")\n",
    "plt.show()"
   ]
  },
  {
   "cell_type": "markdown",
   "metadata": {},
   "source": [
    "####  Southern Hemisphere - Cloudiness (%) vs. Latitude Linear Regression"
   ]
  },
  {
   "cell_type": "code",
   "execution_count": 24,
   "metadata": {},
   "outputs": [
    {
     "name": "stdout",
     "output_type": "stream",
     "text": [
      "The r-squared is: 0.003409889364023915\n"
     ]
    },
    {
     "data": {
      "image/png": "[encoded data removed]",
      "text/plain": [
       "<Figure size 432x288 with 1 Axes>"
      ]
     },
     "metadata": {
      "needs_background": "light"
     },
     "output_type": "display_data"
    }
   ],
   "source": [
    "eq_6 = linear_regression(southern_hemisphere[\"Lat\"], southern_hemisphere[\"Cloudiness\"])\n",
    "plt.xlabel(\"Latitude\")\n",
    "plt.ylabel(\"Cloudiness\")\n",
    "plt.annotate(eq_1, (-55,55), fontsize=15, color=\"red\")\n",
    "plt.show()"
   ]
  },
  {
   "cell_type": "markdown",
   "metadata": {},
   "source": [
    "####  Northern Hemisphere - Wind Speed (mph) vs. Latitude Linear Regression"
   ]
  },
  {
   "cell_type": "code",
   "execution_count": 25,
   "metadata": {},
   "outputs": [
    {
     "name": "stdout",
     "output_type": "stream",
     "text": [
      "The r-squared is: 0.00027241207357450286\n"
     ]
    },
    {
     "data": {
      "image/png": "[encoded data removed]",
      "text/plain": [
       "<Figure size 432x288 with 1 Axes>"
      ]
     },
     "metadata": {
      "needs_background": "light"
     },
     "output_type": "display_data"
    }
   ],
   "source": [
    "eq_7 = linear_regression(northern_hemisphere[\"Lat\"], northern_hemisphere[\"Wind Speed\"])\n",
    "plt.xlabel(\"Latitude\")\n",
    "plt.ylabel(\"Wind Speed\")\n",
    "plt.annotate(eq_1, (20,26), fontsize=15, color=\"red\")\n",
    "plt.show()"
   ]
  },
  {
   "cell_type": "markdown",
   "metadata": {},
   "source": [
    "####  Southern Hemisphere - Wind Speed (mph) vs. Latitude Linear Regression"
   ]
  },
  {
   "cell_type": "code",
   "execution_count": 26,
   "metadata": {},
   "outputs": [
    {
     "name": "stdout",
     "output_type": "stream",
     "text": [
      "The r-squared is: 0.01084918260252865\n"
     ]
    },
    {
     "data": {
      "image/png": "[encoded data removed]",
      "text/plain": [
       "<Figure size 432x288 with 1 Axes>"
      ]
     },
     "metadata": {
      "needs_background": "light"
     },
     "output_type": "display_data"
    }
   ],
   "source": [
    "eq_8 = linear_regression(southern_hemisphere[\"Lat\"], southern_hemisphere[\"Wind Speed\"])\n",
    "plt.xlabel(\"Latitude\")\n",
    "plt.ylabel(\"Wind Speed\")\n",
    "plt.annotate(eq_1, (-55,19), fontsize=15, color=\"red\")\n",
    "plt.show()"
   ]
  }
 ],
 "metadata": {
  "anaconda-cloud": {},
  "kernel_info": {
   "name": "python3"
  },
  "kernelspec": {
   "display_name": "Python 3",
   "language": "python",
   "name": "python3"
  },
  "language_info": {
   "codemirror_mode": {
    "name": "ipython",
    "version": 3
   },
   "file_extension": ".py",
   "mimetype": "text/x-python",
   "name": "python",
   "nbconvert_exporter": "python",
   "pygments_lexer": "ipython3",
   "version": "3.7.6"
  },
  "latex_envs": {
   "LaTeX_envs_menu_present": true,
   "autoclose": false,
   "autocomplete": true,
   "bibliofile": "biblio.bib",
   "cite_by": "apalike",
   "current_citInitial": 1,
   "eqLabelWithNumbers": true,
   "eqNumInitial": 1,
   "hotkeys": {
    "equation": "Ctrl-E",
    "itemize": "Ctrl-I"
   },
   "labels_anchors": false,
   "latex_user_defs": false,
   "report_style_numbering": false,
   "user_envs_cfg": false
  },
  "nteract": {
   "version": "0.12.3"
  }
 },
 "nbformat": 4,
 "nbformat_minor": 2
}
