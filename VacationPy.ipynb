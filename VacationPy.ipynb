{
 "cells": [
  {
   "cell_type": "markdown",
   "metadata": {},
   "source": [
    "# VacationPy\n",
    "----\n",
    "\n",
    "#### Note\n",
    "* Instructions have been included for each segment. You do not have to follow them exactly, but they are included to help you think through the steps."
   ]
  },
  {
   "cell_type": "code",
   "execution_count": 1,
   "metadata": {},
   "outputs": [],
   "source": [
    "# Dependencies and Setup\n",
    "import matplotlib.pyplot as plt\n",
    "import pandas as pd\n",
    "import numpy as np\n",
    "import requests\n",
    "import gmaps\n",
    "import os\n",
    "import time\n",
    "\n",
    "# Import API key\n",
    "from api_keys import g_key"
   ]
  },
  {
   "cell_type": "markdown",
   "metadata": {},
   "source": [
    "### Store Part I results into DataFrame\n",
    "* Load the csv exported in Part I to a DataFrame"
   ]
  },
  {
   "cell_type": "code",
   "execution_count": 2,
   "metadata": {},
   "outputs": [
    {
     "data": {
      "text/html": [
       "<div>\n",
       "<style scoped>\n",
       "    .dataframe tbody tr th:only-of-type {\n",
       "        vertical-align: middle;\n",
       "    }\n",
       "\n",
       "    .dataframe tbody tr th {\n",
       "        vertical-align: top;\n",
       "    }\n",
       "\n",
       "    .dataframe thead th {\n",
       "        text-align: right;\n",
       "    }\n",
       "</style>\n",
       "<table border=\"1\" class=\"dataframe\">\n",
       "  <thead>\n",
       "    <tr style=\"text-align: right;\">\n",
       "      <th></th>\n",
       "      <th>City</th>\n",
       "      <th>Lat</th>\n",
       "      <th>Lng</th>\n",
       "      <th>Max Temp</th>\n",
       "      <th>Humidity</th>\n",
       "      <th>Cloudiness</th>\n",
       "      <th>Wind Speed</th>\n",
       "      <th>Country</th>\n",
       "      <th>Date</th>\n",
       "    </tr>\n",
       "  </thead>\n",
       "  <tbody>\n",
       "    <tr>\n",
       "      <th>0</th>\n",
       "      <td>Maumere</td>\n",
       "      <td>-8.62</td>\n",
       "      <td>122.21</td>\n",
       "      <td>79.86</td>\n",
       "      <td>71</td>\n",
       "      <td>83</td>\n",
       "      <td>3.80</td>\n",
       "      <td>ID</td>\n",
       "      <td>06/21/20</td>\n",
       "    </tr>\n",
       "    <tr>\n",
       "      <th>1</th>\n",
       "      <td>Tautira</td>\n",
       "      <td>-17.73</td>\n",
       "      <td>-149.15</td>\n",
       "      <td>84.20</td>\n",
       "      <td>62</td>\n",
       "      <td>75</td>\n",
       "      <td>5.82</td>\n",
       "      <td>PF</td>\n",
       "      <td>06/21/20</td>\n",
       "    </tr>\n",
       "    <tr>\n",
       "      <th>2</th>\n",
       "      <td>Rikitea</td>\n",
       "      <td>-23.12</td>\n",
       "      <td>-134.97</td>\n",
       "      <td>70.79</td>\n",
       "      <td>68</td>\n",
       "      <td>86</td>\n",
       "      <td>18.01</td>\n",
       "      <td>PF</td>\n",
       "      <td>06/21/20</td>\n",
       "    </tr>\n",
       "    <tr>\n",
       "      <th>3</th>\n",
       "      <td>Sur</td>\n",
       "      <td>22.57</td>\n",
       "      <td>59.53</td>\n",
       "      <td>85.53</td>\n",
       "      <td>68</td>\n",
       "      <td>58</td>\n",
       "      <td>9.26</td>\n",
       "      <td>OM</td>\n",
       "      <td>06/21/20</td>\n",
       "    </tr>\n",
       "    <tr>\n",
       "      <th>4</th>\n",
       "      <td>Ancud</td>\n",
       "      <td>-41.87</td>\n",
       "      <td>-73.82</td>\n",
       "      <td>48.00</td>\n",
       "      <td>100</td>\n",
       "      <td>90</td>\n",
       "      <td>16.11</td>\n",
       "      <td>CL</td>\n",
       "      <td>06/21/20</td>\n",
       "    </tr>\n",
       "  </tbody>\n",
       "</table>\n",
       "</div>"
      ],
      "text/plain": [
       "      City    Lat     Lng  Max Temp  Humidity  Cloudiness  Wind Speed Country  \\\n",
       "0  Maumere  -8.62  122.21     79.86        71          83        3.80      ID   \n",
       "1  Tautira -17.73 -149.15     84.20        62          75        5.82      PF   \n",
       "2  Rikitea -23.12 -134.97     70.79        68          86       18.01      PF   \n",
       "3      Sur  22.57   59.53     85.53        68          58        9.26      OM   \n",
       "4    Ancud -41.87  -73.82     48.00       100          90       16.11      CL   \n",
       "\n",
       "       Date  \n",
       "0  06/21/20  \n",
       "1  06/21/20  \n",
       "2  06/21/20  \n",
       "3  06/21/20  \n",
       "4  06/21/20  "
      ]
     },
     "execution_count": 2,
     "metadata": {},
     "output_type": "execute_result"
    }
   ],
   "source": [
    "data = pd.read_csv(\"output_data/cities.csv\")\n",
    "data.head()"
   ]
  },
  {
   "cell_type": "markdown",
   "metadata": {},
   "source": [
    "### Humidity Heatmap\n",
    "* Configure gmaps.\n",
    "* Use the Lat and Lng as locations and Humidity as the weight.\n",
    "* Add Heatmap layer to map."
   ]
  },
  {
   "cell_type": "code",
   "execution_count": 3,
   "metadata": {},
   "outputs": [],
   "source": [
    "# Let us configure gmaps\n",
    "\n",
    "gmaps.configure(api_key=g_key)\n",
    "locations = data[[\"Lat\", \"Lng\"]]\n",
    "humidity = data[\"Humidity\"]"
   ]
  },
  {
   "cell_type": "code",
   "execution_count": 4,
   "metadata": {},
   "outputs": [
    {
     "data": {
      "application/vnd.jupyter.widget-view+json": {
       "model_id": "f455ded7bbb04ce2a51ac544d7a8c266",
       "version_major": 2,
       "version_minor": 0
      },
      "text/plain": [
       "Figure(layout=FigureLayout(height='420px'))"
      ]
     },
     "metadata": {},
     "output_type": "display_data"
    }
   ],
   "source": [
    "# Let's plot the heatmap\n",
    "\n",
    "fig = gmaps.figure(center=(20, 0), zoom_level=2)\n",
    "heat_layer = gmaps.heatmap_layer(locations, weights = humidity, dissipating=False, max_intensity=np.max(humidity), point_radius=3.5)\n",
    "fig.add_layer(heat_layer)\n",
    "fig"
   ]
  },
  {
   "cell_type": "markdown",
   "metadata": {},
   "source": [
    "### Create new DataFrame fitting weather criteria\n",
    "* Narrow down the cities to fit weather conditions.\n",
    "* Drop any rows will null values."
   ]
  },
  {
   "cell_type": "code",
   "execution_count": 5,
   "metadata": {},
   "outputs": [
    {
     "data": {
      "text/html": [
       "<div>\n",
       "<style scoped>\n",
       "    .dataframe tbody tr th:only-of-type {\n",
       "        vertical-align: middle;\n",
       "    }\n",
       "\n",
       "    .dataframe tbody tr th {\n",
       "        vertical-align: top;\n",
       "    }\n",
       "\n",
       "    .dataframe thead th {\n",
       "        text-align: right;\n",
       "    }\n",
       "</style>\n",
       "<table border=\"1\" class=\"dataframe\">\n",
       "  <thead>\n",
       "    <tr style=\"text-align: right;\">\n",
       "      <th></th>\n",
       "      <th>City</th>\n",
       "      <th>Lat</th>\n",
       "      <th>Lng</th>\n",
       "      <th>Max Temp</th>\n",
       "      <th>Humidity</th>\n",
       "      <th>Cloudiness</th>\n",
       "      <th>Wind Speed</th>\n",
       "      <th>Country</th>\n",
       "      <th>Date</th>\n",
       "    </tr>\n",
       "  </thead>\n",
       "  <tbody>\n",
       "    <tr>\n",
       "      <th>79</th>\n",
       "      <td>Abu Samrah</td>\n",
       "      <td>35.30</td>\n",
       "      <td>37.18</td>\n",
       "      <td>70.74</td>\n",
       "      <td>43</td>\n",
       "      <td>0</td>\n",
       "      <td>5.44</td>\n",
       "      <td>SY</td>\n",
       "      <td>06/21/20</td>\n",
       "    </tr>\n",
       "    <tr>\n",
       "      <th>89</th>\n",
       "      <td>Korla</td>\n",
       "      <td>41.76</td>\n",
       "      <td>86.15</td>\n",
       "      <td>71.01</td>\n",
       "      <td>87</td>\n",
       "      <td>0</td>\n",
       "      <td>7.67</td>\n",
       "      <td>CN</td>\n",
       "      <td>06/21/20</td>\n",
       "    </tr>\n",
       "    <tr>\n",
       "      <th>126</th>\n",
       "      <td>Aksu</td>\n",
       "      <td>41.12</td>\n",
       "      <td>80.26</td>\n",
       "      <td>70.56</td>\n",
       "      <td>23</td>\n",
       "      <td>0</td>\n",
       "      <td>2.53</td>\n",
       "      <td>CN</td>\n",
       "      <td>06/21/20</td>\n",
       "    </tr>\n",
       "    <tr>\n",
       "      <th>196</th>\n",
       "      <td>Kumluca</td>\n",
       "      <td>36.37</td>\n",
       "      <td>30.29</td>\n",
       "      <td>72.68</td>\n",
       "      <td>50</td>\n",
       "      <td>0</td>\n",
       "      <td>4.70</td>\n",
       "      <td>TR</td>\n",
       "      <td>06/21/20</td>\n",
       "    </tr>\n",
       "    <tr>\n",
       "      <th>234</th>\n",
       "      <td>Guarapari</td>\n",
       "      <td>-20.67</td>\n",
       "      <td>-40.50</td>\n",
       "      <td>71.01</td>\n",
       "      <td>88</td>\n",
       "      <td>0</td>\n",
       "      <td>3.36</td>\n",
       "      <td>BR</td>\n",
       "      <td>06/21/20</td>\n",
       "    </tr>\n",
       "  </tbody>\n",
       "</table>\n",
       "</div>"
      ],
      "text/plain": [
       "           City    Lat    Lng  Max Temp  Humidity  Cloudiness  Wind Speed  \\\n",
       "79   Abu Samrah  35.30  37.18     70.74        43           0        5.44   \n",
       "89        Korla  41.76  86.15     71.01        87           0        7.67   \n",
       "126        Aksu  41.12  80.26     70.56        23           0        2.53   \n",
       "196     Kumluca  36.37  30.29     72.68        50           0        4.70   \n",
       "234   Guarapari -20.67 -40.50     71.01        88           0        3.36   \n",
       "\n",
       "    Country      Date  \n",
       "79       SY  06/21/20  \n",
       "89       CN  06/21/20  \n",
       "126      CN  06/21/20  \n",
       "196      TR  06/21/20  \n",
       "234      BR  06/21/20  "
      ]
     },
     "execution_count": 5,
     "metadata": {},
     "output_type": "execute_result"
    }
   ],
   "source": [
    "# Following are the conditions that are to be met in order to have the perfect vacation!\n",
    "# 1. A max temperature lower than 80 degrees but higher than 70.\n",
    "# 2. Wind speed less than 10 mph.\n",
    "# 3. Zero cloudiness.\n",
    "# Drop any rows that don't contain all three conditions. You want to be sure the weather is ideal.\n",
    "\n",
    "ideal_cities = data.loc[(data[\"Wind Speed\"] < 10) & (data[\"Cloudiness\"] == 0) & (data[\"Max Temp\"] > 70) & (data[\"Max Temp\"] < 80)].dropna()\n",
    "\n",
    "ideal_cities.head()"
   ]
  },
  {
   "cell_type": "markdown",
   "metadata": {},
   "source": [
    "### Hotel Map\n",
    "* Store into variable named `hotel_df`.\n",
    "* Add a \"Hotel Name\" column to the DataFrame.\n",
    "* Set parameters to search for hotels with 5000 meters.\n",
    "* Hit the Google Places API for each city's coordinates.\n",
    "* Store the first Hotel result into the DataFrame.\n",
    "* Plot markers on top of the heatmap."
   ]
  },
  {
   "cell_type": "code",
   "execution_count": 6,
   "metadata": {},
   "outputs": [
    {
     "data": {
      "text/html": [
       "<div>\n",
       "<style scoped>\n",
       "    .dataframe tbody tr th:only-of-type {\n",
       "        vertical-align: middle;\n",
       "    }\n",
       "\n",
       "    .dataframe tbody tr th {\n",
       "        vertical-align: top;\n",
       "    }\n",
       "\n",
       "    .dataframe thead th {\n",
       "        text-align: right;\n",
       "    }\n",
       "</style>\n",
       "<table border=\"1\" class=\"dataframe\">\n",
       "  <thead>\n",
       "    <tr style=\"text-align: right;\">\n",
       "      <th></th>\n",
       "      <th>City</th>\n",
       "      <th>Country</th>\n",
       "      <th>Lat</th>\n",
       "      <th>Lng</th>\n",
       "      <th>Hotel Name</th>\n",
       "    </tr>\n",
       "  </thead>\n",
       "  <tbody>\n",
       "    <tr>\n",
       "      <th>79</th>\n",
       "      <td>Abu Samrah</td>\n",
       "      <td>SY</td>\n",
       "      <td>35.30</td>\n",
       "      <td>37.18</td>\n",
       "      <td></td>\n",
       "    </tr>\n",
       "    <tr>\n",
       "      <th>89</th>\n",
       "      <td>Korla</td>\n",
       "      <td>CN</td>\n",
       "      <td>41.76</td>\n",
       "      <td>86.15</td>\n",
       "      <td></td>\n",
       "    </tr>\n",
       "    <tr>\n",
       "      <th>126</th>\n",
       "      <td>Aksu</td>\n",
       "      <td>CN</td>\n",
       "      <td>41.12</td>\n",
       "      <td>80.26</td>\n",
       "      <td></td>\n",
       "    </tr>\n",
       "    <tr>\n",
       "      <th>196</th>\n",
       "      <td>Kumluca</td>\n",
       "      <td>TR</td>\n",
       "      <td>36.37</td>\n",
       "      <td>30.29</td>\n",
       "      <td></td>\n",
       "    </tr>\n",
       "    <tr>\n",
       "      <th>234</th>\n",
       "      <td>Guarapari</td>\n",
       "      <td>BR</td>\n",
       "      <td>-20.67</td>\n",
       "      <td>-40.50</td>\n",
       "      <td></td>\n",
       "    </tr>\n",
       "  </tbody>\n",
       "</table>\n",
       "</div>"
      ],
      "text/plain": [
       "           City Country    Lat    Lng Hotel Name\n",
       "79   Abu Samrah      SY  35.30  37.18           \n",
       "89        Korla      CN  41.76  86.15           \n",
       "126        Aksu      CN  41.12  80.26           \n",
       "196     Kumluca      TR  36.37  30.29           \n",
       "234   Guarapari      BR -20.67 -40.50           "
      ]
     },
     "execution_count": 6,
     "metadata": {},
     "output_type": "execute_result"
    }
   ],
   "source": [
    "# Create a hotel_df\n",
    "hotel_df = ideal_cities.loc[:,[\"City\",\"Country\", \"Lat\", \"Lng\"]]\n",
    "\n",
    "# Add a \"Hotel Name\" column to the DataFrame.\n",
    "hotel_df[\"Hotel Name\"] = \"\"\n",
    "\n",
    "# Display the result\n",
    "hotel_df.head()"
   ]
  },
  {
   "cell_type": "code",
   "execution_count": 7,
   "metadata": {},
   "outputs": [],
   "source": [
    "base_url = \"https://maps.googleapis.com/maps/api/place/nearbysearch/json\"\n",
    "\n",
    "params = {\"type\" : \"hotel\",\n",
    "          \"keyword\" : \"hotel\",\n",
    "          \"radius\" : 5000,\n",
    "          \"key\" : g_key}"
   ]
  },
  {
   "cell_type": "code",
   "execution_count": 8,
   "metadata": {},
   "outputs": [
    {
     "name": "stdout",
     "output_type": "stream",
     "text": [
      "Getting data for 79: Abu Samrah.\n",
      "Missing info skipping.\n",
      "------------\n",
      "Getting data for 89: Korla.\n",
      "Closest hotel in Korla is Kangcheng Jian Guo International Hotel.\n",
      "------------\n",
      "Getting data for 126: Aksu.\n",
      "Closest hotel in Aksu is Pudong Holiday Hotel.\n",
      "------------\n",
      "Getting data for 196: Kumluca.\n",
      "Closest hotel in Kumluca is TurkuazKöy.\n",
      "------------\n",
      "Getting data for 234: Guarapari.\n",
      "Closest hotel in Guarapari is Bristol Guarapari Residence Hotel.\n",
      "------------\n",
      "Getting data for 243: Mackay.\n",
      "Closest hotel in Mackay is Ocean International Hotel.\n",
      "------------\n",
      "Getting data for 351: Soyo.\n",
      "Closest hotel in Soyo is Kinwica.\n",
      "------------\n",
      "Getting data for 370: Bāfq.\n",
      "Closest hotel in Bāfq is Alamdar Hotel.\n",
      "------------\n",
      "Getting data for 390: Shache.\n",
      "Closest hotel in Shache is New Century Hotel.\n",
      "------------\n",
      "Getting data for 407: Kutum.\n",
      "Missing info skipping.\n",
      "------------\n",
      "Getting data for 437: Vila Velha.\n",
      "Closest hotel in Vila Velha is Quality Suites Vila Velha.\n",
      "------------\n",
      "Getting data for 452: Cruz Alta.\n",
      "Closest hotel in Cruz Alta is Hotel da Cuia - Sinta-se em casa!.\n",
      "------------\n",
      "Getting data for 458: São Félix do Xingu.\n",
      "Closest hotel in São Félix do Xingu is Hotel Serrano.\n",
      "------------\n",
      "Getting data for 463: Itupiranga.\n",
      "Closest hotel in Itupiranga is Hotel Palace Itupiranga.\n",
      "------------\n",
      "Getting data for 465: Taft.\n",
      "Closest hotel in Taft is اقامتگاه بوم گردی عمارت کلانتر.\n",
      "------------\n",
      "Getting data for 479: Nālūt.\n",
      "Missing info skipping.\n",
      "------------\n",
      "Getting data for 519: Erzin.\n",
      "Closest hotel in Erzin is Hattusa Vacation Thermal Club Erzin.\n",
      "------------\n",
      "-------End of Search-------\n"
     ]
    }
   ],
   "source": [
    "for index, row in hotel_df.iterrows():\n",
    "    lat = row[\"Lat\"]\n",
    "    lng = row[\"Lng\"]\n",
    "    city_name = row[\"City\"]\n",
    "    params[\"location\"] = f\"{lat},{lng}\"\n",
    "    print(f\"Getting data for {index}: {city_name}.\")\n",
    "    response = requests.get(base_url, params=params).json()\n",
    "    results = response['results']\n",
    "    try:\n",
    "        print(f\"Closest hotel in {city_name} is {results[0]['name']}.\")\n",
    "        hotel_df.loc[index, \"Hotel Name\"] = results[0]['name']\n",
    "    except:\n",
    "        print(\"Missing info skipping.\")\n",
    "    print(\"------------\")\n",
    "    time.sleep(2)\n",
    "print(\"-------End of Search-------\")"
   ]
  },
  {
   "cell_type": "code",
   "execution_count": 9,
   "metadata": {},
   "outputs": [],
   "source": [
    "# NOTE: Do not change any of the code in this cell\n",
    "\n",
    "# Using the template add the hotel marks to the heatmap\n",
    "info_box_template = \"\"\"\n",
    "<dl>\n",
    "<dt>Name</dt><dd>{Hotel Name}</dd>\n",
    "<dt>City</dt><dd>{City}</dd>\n",
    "<dt>Country</dt><dd>{Country}</dd>\n",
    "</dl>\n",
    "\"\"\"\n",
    "# Store the DataFrame Row\n",
    "# NOTE: be sure to update with your DataFrame name\n",
    "hotel_info = [info_box_template.format(**row) for index, row in hotel_df.iterrows()]\n",
    "locations = hotel_df[[\"Lat\", \"Lng\"]]"
   ]
  },
  {
   "cell_type": "code",
   "execution_count": 10,
   "metadata": {},
   "outputs": [
    {
     "data": {
      "application/vnd.jupyter.widget-view+json": {
       "model_id": "f455ded7bbb04ce2a51ac544d7a8c266",
       "version_major": 2,
       "version_minor": 0
      },
      "text/plain": [
       "Figure(layout=FigureLayout(height='420px'))"
      ]
     },
     "metadata": {},
     "output_type": "display_data"
    }
   ],
   "source": [
    "# Add marker layer ontop of heat map\n",
    "markers = gmaps.marker_layer(locations, info_box_content = hotel_info)\n",
    "fig.add_layer(markers)\n",
    "\n",
    "# Display figure\n",
    "fig"
   ]
  }
 ],
 "metadata": {
  "kernelspec": {
   "display_name": "Python 3",
   "language": "python",
   "name": "python3"
  },
  "language_info": {
   "codemirror_mode": {
    "name": "ipython",
    "version": 3
   },
   "file_extension": ".py",
   "mimetype": "text/x-python",
   "name": "python",
   "nbconvert_exporter": "python",
   "pygments_lexer": "ipython3",
   "version": "3.7.6"
  },
  "latex_envs": {
   "LaTeX_envs_menu_present": true,
   "autoclose": false,
   "autocomplete": true,
   "bibliofile": "biblio.bib",
   "cite_by": "apalike",
   "current_citInitial": 1,
   "eqLabelWithNumbers": true,
   "eqNumInitial": 1,
   "hotkeys": {
    "equation": "Ctrl-E",
    "itemize": "Ctrl-I"
   },
   "labels_anchors": false,
   "latex_user_defs": false,
   "report_style_numbering": false,
   "user_envs_cfg": false
  }
 },
 "nbformat": 4,
 "nbformat_minor": 2
}
